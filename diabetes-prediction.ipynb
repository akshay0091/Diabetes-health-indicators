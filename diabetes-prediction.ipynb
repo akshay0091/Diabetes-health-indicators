{
 "cells": [
  {
   "cell_type": "code",
   "execution_count": 1,
   "id": "cd0cd8a6",
   "metadata": {
    "_cell_guid": "b1076dfc-b9ad-4769-8c92-a6c4dae69d19",
    "_uuid": "8f2839f25d086af736a60e9eeb907d3b93b6e0e5",
    "execution": {
     "iopub.execute_input": "2022-05-29T13:42:38.770621Z",
     "iopub.status.busy": "2022-05-29T13:42:38.770095Z",
     "iopub.status.idle": "2022-05-29T13:42:38.789487Z",
     "shell.execute_reply": "2022-05-29T13:42:38.788760Z"
    },
    "papermill": {
     "duration": 0.063914,
     "end_time": "2022-05-29T13:42:38.791824",
     "exception": false,
     "start_time": "2022-05-29T13:42:38.727910",
     "status": "completed"
    },
    "tags": []
   },
   "outputs": [
    {
     "name": "stdout",
     "output_type": "stream",
     "text": [
      "/kaggle/input/diabetes-health-indicators-dataset/diabetes_binary_5050split_health_indicators_BRFSS2015.csv\n",
      "/kaggle/input/diabetes-health-indicators-dataset/diabetes_binary_health_indicators_BRFSS2015.csv\n",
      "/kaggle/input/diabetes-health-indicators-dataset/diabetes_012_health_indicators_BRFSS2015.csv\n"
     ]
    }
   ],
   "source": [
    "# This Python 3 environment comes with many helpful analytics libraries installed\n",
    "# It is defined by the kaggle/python Docker image: https://github.com/kaggle/docker-python\n",
    "# For example, here's several helpful packages to load\n",
    "\n",
    "import numpy as np # linear algebra\n",
    "import pandas as pd # data processing, CSV file I/O (e.g. pd.read_csv)\n",
    "\n",
    "# Input data files are available in the read-only \"../input/\" directory\n",
    "# For example, running this (by clicking run or pressing Shift+Enter) will list all files under the input directory\n",
    "\n",
    "import os\n",
    "for dirname, _, filenames in os.walk('/kaggle/input'):\n",
    "    for filename in filenames:\n",
    "        print(os.path.join(dirname, filename))\n",
    "\n",
    "# You can write up to 20GB to the current directory (/kaggle/working/) that gets preserved as output when you create a version using \"Save & Run All\" \n",
    "# You can also write temporary files to /kaggle/temp/, but they won't be saved outside of the current session"
   ]
  },
  {
   "cell_type": "markdown",
   "id": "9ec0fd67",
   "metadata": {
    "papermill": {
     "duration": 0.043741,
     "end_time": "2022-05-29T13:42:38.876763",
     "exception": false,
     "start_time": "2022-05-29T13:42:38.833022",
     "status": "completed"
    },
    "tags": []
   },
   "source": [
    "https://www.analyticsvidhya.com/blog/2021/05/feature-engineering-how-to-detect-and-remove-outliers-with-python-code/"
   ]
  },
  {
   "cell_type": "code",
   "execution_count": 2,
   "id": "a19848f2",
   "metadata": {
    "execution": {
     "iopub.execute_input": "2022-05-29T13:42:38.980536Z",
     "iopub.status.busy": "2022-05-29T13:42:38.980276Z",
     "iopub.status.idle": "2022-05-29T13:42:39.969765Z",
     "shell.execute_reply": "2022-05-29T13:42:39.968914Z"
    },
    "papermill": {
     "duration": 1.04317,
     "end_time": "2022-05-29T13:42:39.972215",
     "exception": false,
     "start_time": "2022-05-29T13:42:38.929045",
     "status": "completed"
    },
    "tags": []
   },
   "outputs": [
    {
     "data": {
      "text/html": [
       "<div>\n",
       "<style scoped>\n",
       "    .dataframe tbody tr th:only-of-type {\n",
       "        vertical-align: middle;\n",
       "    }\n",
       "\n",
       "    .dataframe tbody tr th {\n",
       "        vertical-align: top;\n",
       "    }\n",
       "\n",
       "    .dataframe thead th {\n",
       "        text-align: right;\n",
       "    }\n",
       "</style>\n",
       "<table border=\"1\" class=\"dataframe\">\n",
       "  <thead>\n",
       "    <tr style=\"text-align: right;\">\n",
       "      <th></th>\n",
       "      <th>Diabetes_012</th>\n",
       "      <th>HighBP</th>\n",
       "      <th>HighChol</th>\n",
       "      <th>CholCheck</th>\n",
       "      <th>BMI</th>\n",
       "      <th>Smoker</th>\n",
       "      <th>Stroke</th>\n",
       "      <th>HeartDiseaseorAttack</th>\n",
       "      <th>PhysActivity</th>\n",
       "      <th>Fruits</th>\n",
       "      <th>...</th>\n",
       "      <th>AnyHealthcare</th>\n",
       "      <th>NoDocbcCost</th>\n",
       "      <th>GenHlth</th>\n",
       "      <th>MentHlth</th>\n",
       "      <th>PhysHlth</th>\n",
       "      <th>DiffWalk</th>\n",
       "      <th>Sex</th>\n",
       "      <th>Age</th>\n",
       "      <th>Education</th>\n",
       "      <th>Income</th>\n",
       "    </tr>\n",
       "  </thead>\n",
       "  <tbody>\n",
       "    <tr>\n",
       "      <th>0</th>\n",
       "      <td>0.0</td>\n",
       "      <td>1.0</td>\n",
       "      <td>1.0</td>\n",
       "      <td>1.0</td>\n",
       "      <td>40.0</td>\n",
       "      <td>1.0</td>\n",
       "      <td>0.0</td>\n",
       "      <td>0.0</td>\n",
       "      <td>0.0</td>\n",
       "      <td>0.0</td>\n",
       "      <td>...</td>\n",
       "      <td>1.0</td>\n",
       "      <td>0.0</td>\n",
       "      <td>5.0</td>\n",
       "      <td>18.0</td>\n",
       "      <td>15.0</td>\n",
       "      <td>1.0</td>\n",
       "      <td>0.0</td>\n",
       "      <td>9.0</td>\n",
       "      <td>4.0</td>\n",
       "      <td>3.0</td>\n",
       "    </tr>\n",
       "    <tr>\n",
       "      <th>1</th>\n",
       "      <td>0.0</td>\n",
       "      <td>0.0</td>\n",
       "      <td>0.0</td>\n",
       "      <td>0.0</td>\n",
       "      <td>25.0</td>\n",
       "      <td>1.0</td>\n",
       "      <td>0.0</td>\n",
       "      <td>0.0</td>\n",
       "      <td>1.0</td>\n",
       "      <td>0.0</td>\n",
       "      <td>...</td>\n",
       "      <td>0.0</td>\n",
       "      <td>1.0</td>\n",
       "      <td>3.0</td>\n",
       "      <td>0.0</td>\n",
       "      <td>0.0</td>\n",
       "      <td>0.0</td>\n",
       "      <td>0.0</td>\n",
       "      <td>7.0</td>\n",
       "      <td>6.0</td>\n",
       "      <td>1.0</td>\n",
       "    </tr>\n",
       "    <tr>\n",
       "      <th>2</th>\n",
       "      <td>0.0</td>\n",
       "      <td>1.0</td>\n",
       "      <td>1.0</td>\n",
       "      <td>1.0</td>\n",
       "      <td>28.0</td>\n",
       "      <td>0.0</td>\n",
       "      <td>0.0</td>\n",
       "      <td>0.0</td>\n",
       "      <td>0.0</td>\n",
       "      <td>1.0</td>\n",
       "      <td>...</td>\n",
       "      <td>1.0</td>\n",
       "      <td>1.0</td>\n",
       "      <td>5.0</td>\n",
       "      <td>30.0</td>\n",
       "      <td>30.0</td>\n",
       "      <td>1.0</td>\n",
       "      <td>0.0</td>\n",
       "      <td>9.0</td>\n",
       "      <td>4.0</td>\n",
       "      <td>8.0</td>\n",
       "    </tr>\n",
       "    <tr>\n",
       "      <th>3</th>\n",
       "      <td>0.0</td>\n",
       "      <td>1.0</td>\n",
       "      <td>0.0</td>\n",
       "      <td>1.0</td>\n",
       "      <td>27.0</td>\n",
       "      <td>0.0</td>\n",
       "      <td>0.0</td>\n",
       "      <td>0.0</td>\n",
       "      <td>1.0</td>\n",
       "      <td>1.0</td>\n",
       "      <td>...</td>\n",
       "      <td>1.0</td>\n",
       "      <td>0.0</td>\n",
       "      <td>2.0</td>\n",
       "      <td>0.0</td>\n",
       "      <td>0.0</td>\n",
       "      <td>0.0</td>\n",
       "      <td>0.0</td>\n",
       "      <td>11.0</td>\n",
       "      <td>3.0</td>\n",
       "      <td>6.0</td>\n",
       "    </tr>\n",
       "    <tr>\n",
       "      <th>4</th>\n",
       "      <td>0.0</td>\n",
       "      <td>1.0</td>\n",
       "      <td>1.0</td>\n",
       "      <td>1.0</td>\n",
       "      <td>24.0</td>\n",
       "      <td>0.0</td>\n",
       "      <td>0.0</td>\n",
       "      <td>0.0</td>\n",
       "      <td>1.0</td>\n",
       "      <td>1.0</td>\n",
       "      <td>...</td>\n",
       "      <td>1.0</td>\n",
       "      <td>0.0</td>\n",
       "      <td>2.0</td>\n",
       "      <td>3.0</td>\n",
       "      <td>0.0</td>\n",
       "      <td>0.0</td>\n",
       "      <td>0.0</td>\n",
       "      <td>11.0</td>\n",
       "      <td>5.0</td>\n",
       "      <td>4.0</td>\n",
       "    </tr>\n",
       "  </tbody>\n",
       "</table>\n",
       "<p>5 rows × 22 columns</p>\n",
       "</div>"
      ],
      "text/plain": [
       "   Diabetes_012  HighBP  HighChol  CholCheck   BMI  Smoker  Stroke  \\\n",
       "0           0.0     1.0       1.0        1.0  40.0     1.0     0.0   \n",
       "1           0.0     0.0       0.0        0.0  25.0     1.0     0.0   \n",
       "2           0.0     1.0       1.0        1.0  28.0     0.0     0.0   \n",
       "3           0.0     1.0       0.0        1.0  27.0     0.0     0.0   \n",
       "4           0.0     1.0       1.0        1.0  24.0     0.0     0.0   \n",
       "\n",
       "   HeartDiseaseorAttack  PhysActivity  Fruits  ...  AnyHealthcare  \\\n",
       "0                   0.0           0.0     0.0  ...            1.0   \n",
       "1                   0.0           1.0     0.0  ...            0.0   \n",
       "2                   0.0           0.0     1.0  ...            1.0   \n",
       "3                   0.0           1.0     1.0  ...            1.0   \n",
       "4                   0.0           1.0     1.0  ...            1.0   \n",
       "\n",
       "   NoDocbcCost  GenHlth  MentHlth  PhysHlth  DiffWalk  Sex   Age  Education  \\\n",
       "0          0.0      5.0      18.0      15.0       1.0  0.0   9.0        4.0   \n",
       "1          1.0      3.0       0.0       0.0       0.0  0.0   7.0        6.0   \n",
       "2          1.0      5.0      30.0      30.0       1.0  0.0   9.0        4.0   \n",
       "3          0.0      2.0       0.0       0.0       0.0  0.0  11.0        3.0   \n",
       "4          0.0      2.0       3.0       0.0       0.0  0.0  11.0        5.0   \n",
       "\n",
       "   Income  \n",
       "0     3.0  \n",
       "1     1.0  \n",
       "2     8.0  \n",
       "3     6.0  \n",
       "4     4.0  \n",
       "\n",
       "[5 rows x 22 columns]"
      ]
     },
     "execution_count": 2,
     "metadata": {},
     "output_type": "execute_result"
    }
   ],
   "source": [
    "df=pd.read_csv('../input/diabetes-health-indicators-dataset/diabetes_012_health_indicators_BRFSS2015.csv')\n",
    "df.head()"
   ]
  },
  {
   "cell_type": "code",
   "execution_count": 3,
   "id": "032f8558",
   "metadata": {
    "execution": {
     "iopub.execute_input": "2022-05-29T13:42:40.056342Z",
     "iopub.status.busy": "2022-05-29T13:42:40.055811Z",
     "iopub.status.idle": "2022-05-29T13:42:40.345642Z",
     "shell.execute_reply": "2022-05-29T13:42:40.344842Z"
    },
    "papermill": {
     "duration": 0.333758,
     "end_time": "2022-05-29T13:42:40.348007",
     "exception": false,
     "start_time": "2022-05-29T13:42:40.014249",
     "status": "completed"
    },
    "tags": []
   },
   "outputs": [
    {
     "data": {
      "text/html": [
       "<div>\n",
       "<style scoped>\n",
       "    .dataframe tbody tr th:only-of-type {\n",
       "        vertical-align: middle;\n",
       "    }\n",
       "\n",
       "    .dataframe tbody tr th {\n",
       "        vertical-align: top;\n",
       "    }\n",
       "\n",
       "    .dataframe thead th {\n",
       "        text-align: right;\n",
       "    }\n",
       "</style>\n",
       "<table border=\"1\" class=\"dataframe\">\n",
       "  <thead>\n",
       "    <tr style=\"text-align: right;\">\n",
       "      <th></th>\n",
       "      <th>Diabetes_012</th>\n",
       "      <th>HighBP</th>\n",
       "      <th>HighChol</th>\n",
       "      <th>CholCheck</th>\n",
       "      <th>BMI</th>\n",
       "      <th>Smoker</th>\n",
       "      <th>Stroke</th>\n",
       "      <th>HeartDiseaseorAttack</th>\n",
       "      <th>PhysActivity</th>\n",
       "      <th>Fruits</th>\n",
       "      <th>...</th>\n",
       "      <th>AnyHealthcare</th>\n",
       "      <th>NoDocbcCost</th>\n",
       "      <th>GenHlth</th>\n",
       "      <th>MentHlth</th>\n",
       "      <th>PhysHlth</th>\n",
       "      <th>DiffWalk</th>\n",
       "      <th>Sex</th>\n",
       "      <th>Age</th>\n",
       "      <th>Education</th>\n",
       "      <th>Income</th>\n",
       "    </tr>\n",
       "  </thead>\n",
       "  <tbody>\n",
       "    <tr>\n",
       "      <th>count</th>\n",
       "      <td>253680.000000</td>\n",
       "      <td>253680.000000</td>\n",
       "      <td>253680.000000</td>\n",
       "      <td>253680.000000</td>\n",
       "      <td>253680.000000</td>\n",
       "      <td>253680.000000</td>\n",
       "      <td>253680.000000</td>\n",
       "      <td>253680.000000</td>\n",
       "      <td>253680.000000</td>\n",
       "      <td>253680.000000</td>\n",
       "      <td>...</td>\n",
       "      <td>253680.000000</td>\n",
       "      <td>253680.000000</td>\n",
       "      <td>253680.000000</td>\n",
       "      <td>253680.000000</td>\n",
       "      <td>253680.000000</td>\n",
       "      <td>253680.000000</td>\n",
       "      <td>253680.000000</td>\n",
       "      <td>253680.000000</td>\n",
       "      <td>253680.000000</td>\n",
       "      <td>253680.000000</td>\n",
       "    </tr>\n",
       "    <tr>\n",
       "      <th>mean</th>\n",
       "      <td>0.296921</td>\n",
       "      <td>0.429001</td>\n",
       "      <td>0.424121</td>\n",
       "      <td>0.962670</td>\n",
       "      <td>28.382364</td>\n",
       "      <td>0.443169</td>\n",
       "      <td>0.040571</td>\n",
       "      <td>0.094186</td>\n",
       "      <td>0.756544</td>\n",
       "      <td>0.634256</td>\n",
       "      <td>...</td>\n",
       "      <td>0.951053</td>\n",
       "      <td>0.084177</td>\n",
       "      <td>2.511392</td>\n",
       "      <td>3.184772</td>\n",
       "      <td>4.242081</td>\n",
       "      <td>0.168224</td>\n",
       "      <td>0.440342</td>\n",
       "      <td>8.032119</td>\n",
       "      <td>5.050434</td>\n",
       "      <td>6.053875</td>\n",
       "    </tr>\n",
       "    <tr>\n",
       "      <th>std</th>\n",
       "      <td>0.698160</td>\n",
       "      <td>0.494934</td>\n",
       "      <td>0.494210</td>\n",
       "      <td>0.189571</td>\n",
       "      <td>6.608694</td>\n",
       "      <td>0.496761</td>\n",
       "      <td>0.197294</td>\n",
       "      <td>0.292087</td>\n",
       "      <td>0.429169</td>\n",
       "      <td>0.481639</td>\n",
       "      <td>...</td>\n",
       "      <td>0.215759</td>\n",
       "      <td>0.277654</td>\n",
       "      <td>1.068477</td>\n",
       "      <td>7.412847</td>\n",
       "      <td>8.717951</td>\n",
       "      <td>0.374066</td>\n",
       "      <td>0.496429</td>\n",
       "      <td>3.054220</td>\n",
       "      <td>0.985774</td>\n",
       "      <td>2.071148</td>\n",
       "    </tr>\n",
       "    <tr>\n",
       "      <th>min</th>\n",
       "      <td>0.000000</td>\n",
       "      <td>0.000000</td>\n",
       "      <td>0.000000</td>\n",
       "      <td>0.000000</td>\n",
       "      <td>12.000000</td>\n",
       "      <td>0.000000</td>\n",
       "      <td>0.000000</td>\n",
       "      <td>0.000000</td>\n",
       "      <td>0.000000</td>\n",
       "      <td>0.000000</td>\n",
       "      <td>...</td>\n",
       "      <td>0.000000</td>\n",
       "      <td>0.000000</td>\n",
       "      <td>1.000000</td>\n",
       "      <td>0.000000</td>\n",
       "      <td>0.000000</td>\n",
       "      <td>0.000000</td>\n",
       "      <td>0.000000</td>\n",
       "      <td>1.000000</td>\n",
       "      <td>1.000000</td>\n",
       "      <td>1.000000</td>\n",
       "    </tr>\n",
       "    <tr>\n",
       "      <th>25%</th>\n",
       "      <td>0.000000</td>\n",
       "      <td>0.000000</td>\n",
       "      <td>0.000000</td>\n",
       "      <td>1.000000</td>\n",
       "      <td>24.000000</td>\n",
       "      <td>0.000000</td>\n",
       "      <td>0.000000</td>\n",
       "      <td>0.000000</td>\n",
       "      <td>1.000000</td>\n",
       "      <td>0.000000</td>\n",
       "      <td>...</td>\n",
       "      <td>1.000000</td>\n",
       "      <td>0.000000</td>\n",
       "      <td>2.000000</td>\n",
       "      <td>0.000000</td>\n",
       "      <td>0.000000</td>\n",
       "      <td>0.000000</td>\n",
       "      <td>0.000000</td>\n",
       "      <td>6.000000</td>\n",
       "      <td>4.000000</td>\n",
       "      <td>5.000000</td>\n",
       "    </tr>\n",
       "    <tr>\n",
       "      <th>50%</th>\n",
       "      <td>0.000000</td>\n",
       "      <td>0.000000</td>\n",
       "      <td>0.000000</td>\n",
       "      <td>1.000000</td>\n",
       "      <td>27.000000</td>\n",
       "      <td>0.000000</td>\n",
       "      <td>0.000000</td>\n",
       "      <td>0.000000</td>\n",
       "      <td>1.000000</td>\n",
       "      <td>1.000000</td>\n",
       "      <td>...</td>\n",
       "      <td>1.000000</td>\n",
       "      <td>0.000000</td>\n",
       "      <td>2.000000</td>\n",
       "      <td>0.000000</td>\n",
       "      <td>0.000000</td>\n",
       "      <td>0.000000</td>\n",
       "      <td>0.000000</td>\n",
       "      <td>8.000000</td>\n",
       "      <td>5.000000</td>\n",
       "      <td>7.000000</td>\n",
       "    </tr>\n",
       "    <tr>\n",
       "      <th>75%</th>\n",
       "      <td>0.000000</td>\n",
       "      <td>1.000000</td>\n",
       "      <td>1.000000</td>\n",
       "      <td>1.000000</td>\n",
       "      <td>31.000000</td>\n",
       "      <td>1.000000</td>\n",
       "      <td>0.000000</td>\n",
       "      <td>0.000000</td>\n",
       "      <td>1.000000</td>\n",
       "      <td>1.000000</td>\n",
       "      <td>...</td>\n",
       "      <td>1.000000</td>\n",
       "      <td>0.000000</td>\n",
       "      <td>3.000000</td>\n",
       "      <td>2.000000</td>\n",
       "      <td>3.000000</td>\n",
       "      <td>0.000000</td>\n",
       "      <td>1.000000</td>\n",
       "      <td>10.000000</td>\n",
       "      <td>6.000000</td>\n",
       "      <td>8.000000</td>\n",
       "    </tr>\n",
       "    <tr>\n",
       "      <th>max</th>\n",
       "      <td>2.000000</td>\n",
       "      <td>1.000000</td>\n",
       "      <td>1.000000</td>\n",
       "      <td>1.000000</td>\n",
       "      <td>98.000000</td>\n",
       "      <td>1.000000</td>\n",
       "      <td>1.000000</td>\n",
       "      <td>1.000000</td>\n",
       "      <td>1.000000</td>\n",
       "      <td>1.000000</td>\n",
       "      <td>...</td>\n",
       "      <td>1.000000</td>\n",
       "      <td>1.000000</td>\n",
       "      <td>5.000000</td>\n",
       "      <td>30.000000</td>\n",
       "      <td>30.000000</td>\n",
       "      <td>1.000000</td>\n",
       "      <td>1.000000</td>\n",
       "      <td>13.000000</td>\n",
       "      <td>6.000000</td>\n",
       "      <td>8.000000</td>\n",
       "    </tr>\n",
       "  </tbody>\n",
       "</table>\n",
       "<p>8 rows × 22 columns</p>\n",
       "</div>"
      ],
      "text/plain": [
       "        Diabetes_012         HighBP       HighChol      CholCheck  \\\n",
       "count  253680.000000  253680.000000  253680.000000  253680.000000   \n",
       "mean        0.296921       0.429001       0.424121       0.962670   \n",
       "std         0.698160       0.494934       0.494210       0.189571   \n",
       "min         0.000000       0.000000       0.000000       0.000000   \n",
       "25%         0.000000       0.000000       0.000000       1.000000   \n",
       "50%         0.000000       0.000000       0.000000       1.000000   \n",
       "75%         0.000000       1.000000       1.000000       1.000000   \n",
       "max         2.000000       1.000000       1.000000       1.000000   \n",
       "\n",
       "                 BMI         Smoker         Stroke  HeartDiseaseorAttack  \\\n",
       "count  253680.000000  253680.000000  253680.000000         253680.000000   \n",
       "mean       28.382364       0.443169       0.040571              0.094186   \n",
       "std         6.608694       0.496761       0.197294              0.292087   \n",
       "min        12.000000       0.000000       0.000000              0.000000   \n",
       "25%        24.000000       0.000000       0.000000              0.000000   \n",
       "50%        27.000000       0.000000       0.000000              0.000000   \n",
       "75%        31.000000       1.000000       0.000000              0.000000   \n",
       "max        98.000000       1.000000       1.000000              1.000000   \n",
       "\n",
       "        PhysActivity         Fruits  ...  AnyHealthcare    NoDocbcCost  \\\n",
       "count  253680.000000  253680.000000  ...  253680.000000  253680.000000   \n",
       "mean        0.756544       0.634256  ...       0.951053       0.084177   \n",
       "std         0.429169       0.481639  ...       0.215759       0.277654   \n",
       "min         0.000000       0.000000  ...       0.000000       0.000000   \n",
       "25%         1.000000       0.000000  ...       1.000000       0.000000   \n",
       "50%         1.000000       1.000000  ...       1.000000       0.000000   \n",
       "75%         1.000000       1.000000  ...       1.000000       0.000000   \n",
       "max         1.000000       1.000000  ...       1.000000       1.000000   \n",
       "\n",
       "             GenHlth       MentHlth       PhysHlth       DiffWalk  \\\n",
       "count  253680.000000  253680.000000  253680.000000  253680.000000   \n",
       "mean        2.511392       3.184772       4.242081       0.168224   \n",
       "std         1.068477       7.412847       8.717951       0.374066   \n",
       "min         1.000000       0.000000       0.000000       0.000000   \n",
       "25%         2.000000       0.000000       0.000000       0.000000   \n",
       "50%         2.000000       0.000000       0.000000       0.000000   \n",
       "75%         3.000000       2.000000       3.000000       0.000000   \n",
       "max         5.000000      30.000000      30.000000       1.000000   \n",
       "\n",
       "                 Sex            Age      Education         Income  \n",
       "count  253680.000000  253680.000000  253680.000000  253680.000000  \n",
       "mean        0.440342       8.032119       5.050434       6.053875  \n",
       "std         0.496429       3.054220       0.985774       2.071148  \n",
       "min         0.000000       1.000000       1.000000       1.000000  \n",
       "25%         0.000000       6.000000       4.000000       5.000000  \n",
       "50%         0.000000       8.000000       5.000000       7.000000  \n",
       "75%         1.000000      10.000000       6.000000       8.000000  \n",
       "max         1.000000      13.000000       6.000000       8.000000  \n",
       "\n",
       "[8 rows x 22 columns]"
      ]
     },
     "execution_count": 3,
     "metadata": {},
     "output_type": "execute_result"
    }
   ],
   "source": [
    "df.describe()"
   ]
  },
  {
   "cell_type": "code",
   "execution_count": 4,
   "id": "88709275",
   "metadata": {
    "execution": {
     "iopub.execute_input": "2022-05-29T13:42:40.432522Z",
     "iopub.status.busy": "2022-05-29T13:42:40.432253Z",
     "iopub.status.idle": "2022-05-29T13:42:40.437335Z",
     "shell.execute_reply": "2022-05-29T13:42:40.436517Z"
    },
    "papermill": {
     "duration": 0.049269,
     "end_time": "2022-05-29T13:42:40.439510",
     "exception": false,
     "start_time": "2022-05-29T13:42:40.390241",
     "status": "completed"
    },
    "tags": []
   },
   "outputs": [
    {
     "data": {
      "text/plain": [
       "(253680, 22)"
      ]
     },
     "execution_count": 4,
     "metadata": {},
     "output_type": "execute_result"
    }
   ],
   "source": [
    "df.shape"
   ]
  },
  {
   "cell_type": "code",
   "execution_count": 5,
   "id": "25272c7e",
   "metadata": {
    "execution": {
     "iopub.execute_input": "2022-05-29T13:42:40.523018Z",
     "iopub.status.busy": "2022-05-29T13:42:40.522711Z",
     "iopub.status.idle": "2022-05-29T13:42:40.542207Z",
     "shell.execute_reply": "2022-05-29T13:42:40.541114Z"
    },
    "papermill": {
     "duration": 0.064019,
     "end_time": "2022-05-29T13:42:40.544383",
     "exception": false,
     "start_time": "2022-05-29T13:42:40.480364",
     "status": "completed"
    },
    "tags": []
   },
   "outputs": [
    {
     "data": {
      "text/plain": [
       "Diabetes_012            0\n",
       "HighBP                  0\n",
       "HighChol                0\n",
       "CholCheck               0\n",
       "BMI                     0\n",
       "Smoker                  0\n",
       "Stroke                  0\n",
       "HeartDiseaseorAttack    0\n",
       "PhysActivity            0\n",
       "Fruits                  0\n",
       "Veggies                 0\n",
       "HvyAlcoholConsump       0\n",
       "AnyHealthcare           0\n",
       "NoDocbcCost             0\n",
       "GenHlth                 0\n",
       "MentHlth                0\n",
       "PhysHlth                0\n",
       "DiffWalk                0\n",
       "Sex                     0\n",
       "Age                     0\n",
       "Education               0\n",
       "Income                  0\n",
       "dtype: int64"
      ]
     },
     "execution_count": 5,
     "metadata": {},
     "output_type": "execute_result"
    }
   ],
   "source": [
    "df.isnull().sum()"
   ]
  },
  {
   "cell_type": "code",
   "execution_count": 6,
   "id": "326f999b",
   "metadata": {
    "execution": {
     "iopub.execute_input": "2022-05-29T13:42:40.630203Z",
     "iopub.status.busy": "2022-05-29T13:42:40.629611Z",
     "iopub.status.idle": "2022-05-29T13:42:40.644874Z",
     "shell.execute_reply": "2022-05-29T13:42:40.644196Z"
    },
    "papermill": {
     "duration": 0.060033,
     "end_time": "2022-05-29T13:42:40.647063",
     "exception": false,
     "start_time": "2022-05-29T13:42:40.587030",
     "status": "completed"
    },
    "tags": []
   },
   "outputs": [],
   "source": [
    "df1=df.drop(['Income','Education','AnyHealthcare','NoDocbcCost','GenHlth','MentHlth','PhysHlth','DiffWalk'],axis=1)"
   ]
  },
  {
   "cell_type": "code",
   "execution_count": 7,
   "id": "fa28188d",
   "metadata": {
    "execution": {
     "iopub.execute_input": "2022-05-29T13:42:40.731704Z",
     "iopub.status.busy": "2022-05-29T13:42:40.731150Z",
     "iopub.status.idle": "2022-05-29T13:42:40.763568Z",
     "shell.execute_reply": "2022-05-29T13:42:40.762940Z"
    },
    "papermill": {
     "duration": 0.077058,
     "end_time": "2022-05-29T13:42:40.765341",
     "exception": false,
     "start_time": "2022-05-29T13:42:40.688283",
     "status": "completed"
    },
    "tags": []
   },
   "outputs": [
    {
     "data": {
      "text/html": [
       "<div>\n",
       "<style scoped>\n",
       "    .dataframe tbody tr th:only-of-type {\n",
       "        vertical-align: middle;\n",
       "    }\n",
       "\n",
       "    .dataframe tbody tr th {\n",
       "        vertical-align: top;\n",
       "    }\n",
       "\n",
       "    .dataframe thead th {\n",
       "        text-align: right;\n",
       "    }\n",
       "</style>\n",
       "<table border=\"1\" class=\"dataframe\">\n",
       "  <thead>\n",
       "    <tr style=\"text-align: right;\">\n",
       "      <th></th>\n",
       "      <th>Diabetes_012</th>\n",
       "      <th>HighBP</th>\n",
       "      <th>HighChol</th>\n",
       "      <th>CholCheck</th>\n",
       "      <th>BMI</th>\n",
       "      <th>Smoker</th>\n",
       "      <th>Stroke</th>\n",
       "      <th>HeartDiseaseorAttack</th>\n",
       "      <th>PhysActivity</th>\n",
       "      <th>Fruits</th>\n",
       "      <th>Veggies</th>\n",
       "      <th>HvyAlcoholConsump</th>\n",
       "      <th>Sex</th>\n",
       "      <th>Age</th>\n",
       "    </tr>\n",
       "  </thead>\n",
       "  <tbody>\n",
       "    <tr>\n",
       "      <th>0</th>\n",
       "      <td>0.0</td>\n",
       "      <td>1.0</td>\n",
       "      <td>1.0</td>\n",
       "      <td>1.0</td>\n",
       "      <td>40.0</td>\n",
       "      <td>1.0</td>\n",
       "      <td>0.0</td>\n",
       "      <td>0.0</td>\n",
       "      <td>0.0</td>\n",
       "      <td>0.0</td>\n",
       "      <td>1.0</td>\n",
       "      <td>0.0</td>\n",
       "      <td>0.0</td>\n",
       "      <td>9.0</td>\n",
       "    </tr>\n",
       "    <tr>\n",
       "      <th>1</th>\n",
       "      <td>0.0</td>\n",
       "      <td>0.0</td>\n",
       "      <td>0.0</td>\n",
       "      <td>0.0</td>\n",
       "      <td>25.0</td>\n",
       "      <td>1.0</td>\n",
       "      <td>0.0</td>\n",
       "      <td>0.0</td>\n",
       "      <td>1.0</td>\n",
       "      <td>0.0</td>\n",
       "      <td>0.0</td>\n",
       "      <td>0.0</td>\n",
       "      <td>0.0</td>\n",
       "      <td>7.0</td>\n",
       "    </tr>\n",
       "    <tr>\n",
       "      <th>2</th>\n",
       "      <td>0.0</td>\n",
       "      <td>1.0</td>\n",
       "      <td>1.0</td>\n",
       "      <td>1.0</td>\n",
       "      <td>28.0</td>\n",
       "      <td>0.0</td>\n",
       "      <td>0.0</td>\n",
       "      <td>0.0</td>\n",
       "      <td>0.0</td>\n",
       "      <td>1.0</td>\n",
       "      <td>0.0</td>\n",
       "      <td>0.0</td>\n",
       "      <td>0.0</td>\n",
       "      <td>9.0</td>\n",
       "    </tr>\n",
       "    <tr>\n",
       "      <th>3</th>\n",
       "      <td>0.0</td>\n",
       "      <td>1.0</td>\n",
       "      <td>0.0</td>\n",
       "      <td>1.0</td>\n",
       "      <td>27.0</td>\n",
       "      <td>0.0</td>\n",
       "      <td>0.0</td>\n",
       "      <td>0.0</td>\n",
       "      <td>1.0</td>\n",
       "      <td>1.0</td>\n",
       "      <td>1.0</td>\n",
       "      <td>0.0</td>\n",
       "      <td>0.0</td>\n",
       "      <td>11.0</td>\n",
       "    </tr>\n",
       "    <tr>\n",
       "      <th>4</th>\n",
       "      <td>0.0</td>\n",
       "      <td>1.0</td>\n",
       "      <td>1.0</td>\n",
       "      <td>1.0</td>\n",
       "      <td>24.0</td>\n",
       "      <td>0.0</td>\n",
       "      <td>0.0</td>\n",
       "      <td>0.0</td>\n",
       "      <td>1.0</td>\n",
       "      <td>1.0</td>\n",
       "      <td>1.0</td>\n",
       "      <td>0.0</td>\n",
       "      <td>0.0</td>\n",
       "      <td>11.0</td>\n",
       "    </tr>\n",
       "    <tr>\n",
       "      <th>...</th>\n",
       "      <td>...</td>\n",
       "      <td>...</td>\n",
       "      <td>...</td>\n",
       "      <td>...</td>\n",
       "      <td>...</td>\n",
       "      <td>...</td>\n",
       "      <td>...</td>\n",
       "      <td>...</td>\n",
       "      <td>...</td>\n",
       "      <td>...</td>\n",
       "      <td>...</td>\n",
       "      <td>...</td>\n",
       "      <td>...</td>\n",
       "      <td>...</td>\n",
       "    </tr>\n",
       "    <tr>\n",
       "      <th>253675</th>\n",
       "      <td>0.0</td>\n",
       "      <td>1.0</td>\n",
       "      <td>1.0</td>\n",
       "      <td>1.0</td>\n",
       "      <td>45.0</td>\n",
       "      <td>0.0</td>\n",
       "      <td>0.0</td>\n",
       "      <td>0.0</td>\n",
       "      <td>0.0</td>\n",
       "      <td>1.0</td>\n",
       "      <td>1.0</td>\n",
       "      <td>0.0</td>\n",
       "      <td>1.0</td>\n",
       "      <td>5.0</td>\n",
       "    </tr>\n",
       "    <tr>\n",
       "      <th>253676</th>\n",
       "      <td>2.0</td>\n",
       "      <td>1.0</td>\n",
       "      <td>1.0</td>\n",
       "      <td>1.0</td>\n",
       "      <td>18.0</td>\n",
       "      <td>0.0</td>\n",
       "      <td>0.0</td>\n",
       "      <td>0.0</td>\n",
       "      <td>0.0</td>\n",
       "      <td>0.0</td>\n",
       "      <td>0.0</td>\n",
       "      <td>0.0</td>\n",
       "      <td>0.0</td>\n",
       "      <td>11.0</td>\n",
       "    </tr>\n",
       "    <tr>\n",
       "      <th>253677</th>\n",
       "      <td>0.0</td>\n",
       "      <td>0.0</td>\n",
       "      <td>0.0</td>\n",
       "      <td>1.0</td>\n",
       "      <td>28.0</td>\n",
       "      <td>0.0</td>\n",
       "      <td>0.0</td>\n",
       "      <td>0.0</td>\n",
       "      <td>1.0</td>\n",
       "      <td>1.0</td>\n",
       "      <td>0.0</td>\n",
       "      <td>0.0</td>\n",
       "      <td>0.0</td>\n",
       "      <td>2.0</td>\n",
       "    </tr>\n",
       "    <tr>\n",
       "      <th>253678</th>\n",
       "      <td>0.0</td>\n",
       "      <td>1.0</td>\n",
       "      <td>0.0</td>\n",
       "      <td>1.0</td>\n",
       "      <td>23.0</td>\n",
       "      <td>0.0</td>\n",
       "      <td>0.0</td>\n",
       "      <td>0.0</td>\n",
       "      <td>0.0</td>\n",
       "      <td>1.0</td>\n",
       "      <td>1.0</td>\n",
       "      <td>0.0</td>\n",
       "      <td>1.0</td>\n",
       "      <td>7.0</td>\n",
       "    </tr>\n",
       "    <tr>\n",
       "      <th>253679</th>\n",
       "      <td>2.0</td>\n",
       "      <td>1.0</td>\n",
       "      <td>1.0</td>\n",
       "      <td>1.0</td>\n",
       "      <td>25.0</td>\n",
       "      <td>0.0</td>\n",
       "      <td>0.0</td>\n",
       "      <td>1.0</td>\n",
       "      <td>1.0</td>\n",
       "      <td>1.0</td>\n",
       "      <td>0.0</td>\n",
       "      <td>0.0</td>\n",
       "      <td>0.0</td>\n",
       "      <td>9.0</td>\n",
       "    </tr>\n",
       "  </tbody>\n",
       "</table>\n",
       "<p>253680 rows × 14 columns</p>\n",
       "</div>"
      ],
      "text/plain": [
       "        Diabetes_012  HighBP  HighChol  CholCheck   BMI  Smoker  Stroke  \\\n",
       "0                0.0     1.0       1.0        1.0  40.0     1.0     0.0   \n",
       "1                0.0     0.0       0.0        0.0  25.0     1.0     0.0   \n",
       "2                0.0     1.0       1.0        1.0  28.0     0.0     0.0   \n",
       "3                0.0     1.0       0.0        1.0  27.0     0.0     0.0   \n",
       "4                0.0     1.0       1.0        1.0  24.0     0.0     0.0   \n",
       "...              ...     ...       ...        ...   ...     ...     ...   \n",
       "253675           0.0     1.0       1.0        1.0  45.0     0.0     0.0   \n",
       "253676           2.0     1.0       1.0        1.0  18.0     0.0     0.0   \n",
       "253677           0.0     0.0       0.0        1.0  28.0     0.0     0.0   \n",
       "253678           0.0     1.0       0.0        1.0  23.0     0.0     0.0   \n",
       "253679           2.0     1.0       1.0        1.0  25.0     0.0     0.0   \n",
       "\n",
       "        HeartDiseaseorAttack  PhysActivity  Fruits  Veggies  \\\n",
       "0                        0.0           0.0     0.0      1.0   \n",
       "1                        0.0           1.0     0.0      0.0   \n",
       "2                        0.0           0.0     1.0      0.0   \n",
       "3                        0.0           1.0     1.0      1.0   \n",
       "4                        0.0           1.0     1.0      1.0   \n",
       "...                      ...           ...     ...      ...   \n",
       "253675                   0.0           0.0     1.0      1.0   \n",
       "253676                   0.0           0.0     0.0      0.0   \n",
       "253677                   0.0           1.0     1.0      0.0   \n",
       "253678                   0.0           0.0     1.0      1.0   \n",
       "253679                   1.0           1.0     1.0      0.0   \n",
       "\n",
       "        HvyAlcoholConsump  Sex   Age  \n",
       "0                     0.0  0.0   9.0  \n",
       "1                     0.0  0.0   7.0  \n",
       "2                     0.0  0.0   9.0  \n",
       "3                     0.0  0.0  11.0  \n",
       "4                     0.0  0.0  11.0  \n",
       "...                   ...  ...   ...  \n",
       "253675                0.0  1.0   5.0  \n",
       "253676                0.0  0.0  11.0  \n",
       "253677                0.0  0.0   2.0  \n",
       "253678                0.0  1.0   7.0  \n",
       "253679                0.0  0.0   9.0  \n",
       "\n",
       "[253680 rows x 14 columns]"
      ]
     },
     "execution_count": 7,
     "metadata": {},
     "output_type": "execute_result"
    }
   ],
   "source": [
    "df1"
   ]
  },
  {
   "cell_type": "code",
   "execution_count": 8,
   "id": "99c6a82b",
   "metadata": {
    "execution": {
     "iopub.execute_input": "2022-05-29T13:42:40.851037Z",
     "iopub.status.busy": "2022-05-29T13:42:40.850708Z",
     "iopub.status.idle": "2022-05-29T13:42:40.860506Z",
     "shell.execute_reply": "2022-05-29T13:42:40.859625Z"
    },
    "papermill": {
     "duration": 0.055022,
     "end_time": "2022-05-29T13:42:40.862505",
     "exception": false,
     "start_time": "2022-05-29T13:42:40.807483",
     "status": "completed"
    },
    "tags": []
   },
   "outputs": [
    {
     "data": {
      "text/plain": [
       "array([0., 2., 1.])"
      ]
     },
     "execution_count": 8,
     "metadata": {},
     "output_type": "execute_result"
    }
   ],
   "source": [
    "df1['Diabetes_012'].unique()"
   ]
  },
  {
   "cell_type": "code",
   "execution_count": 9,
   "id": "4fbf141f",
   "metadata": {
    "execution": {
     "iopub.execute_input": "2022-05-29T13:42:40.949281Z",
     "iopub.status.busy": "2022-05-29T13:42:40.948451Z",
     "iopub.status.idle": "2022-05-29T13:42:44.531039Z",
     "shell.execute_reply": "2022-05-29T13:42:44.530334Z"
    },
    "papermill": {
     "duration": 3.628126,
     "end_time": "2022-05-29T13:42:44.533076",
     "exception": false,
     "start_time": "2022-05-29T13:42:40.904950",
     "status": "completed"
    },
    "tags": []
   },
   "outputs": [
    {
     "data": {
      "image/png": "[encoded data removed]",
      "text/plain": [
       "<Figure size 1152x360 with 2 Axes>"
      ]
     },
     "metadata": {
      "needs_background": "light"
     },
     "output_type": "display_data"
    }
   ],
   "source": [
    "import matplotlib.pyplot as plt\n",
    "import seaborn as sns\n",
    "import warnings\n",
    "warnings.filterwarnings('ignore')\n",
    "plt.figure(figsize=(16,5))\n",
    "plt.subplot(1,2,1)\n",
    "sns.distplot(df1['Age'])\n",
    "plt.subplot(1,2,2)\n",
    "sns.distplot(df1['BMI'])\n",
    "plt.show()"
   ]
  },
  {
   "cell_type": "code",
   "execution_count": 10,
   "id": "090b1561",
   "metadata": {
    "execution": {
     "iopub.execute_input": "2022-05-29T13:42:44.623750Z",
     "iopub.status.busy": "2022-05-29T13:42:44.623451Z",
     "iopub.status.idle": "2022-05-29T13:42:47.775759Z",
     "shell.execute_reply": "2022-05-29T13:42:47.774794Z"
    },
    "papermill": {
     "duration": 3.200268,
     "end_time": "2022-05-29T13:42:47.777882",
     "exception": false,
     "start_time": "2022-05-29T13:42:44.577614",
     "status": "completed"
    },
    "tags": []
   },
   "outputs": [
    {
     "data": {
      "text/plain": [
       "<AxesSubplot:xlabel='Age', ylabel='Diabetes_012'>"
      ]
     },
     "execution_count": 10,
     "metadata": {},
     "output_type": "execute_result"
    },
    {
     "data": {
      "image/png": "[encoded data removed]",
      "text/plain": [
       "<Figure size 432x288 with 1 Axes>"
      ]
     },
     "metadata": {
      "needs_background": "light"
     },
     "output_type": "display_data"
    }
   ],
   "source": [
    "sns.barplot(x=\"Age\", y=\"Diabetes_012\", data=df1,\n",
    "                      color=\"salmon\", saturation=.5)"
   ]
  },
  {
   "cell_type": "code",
   "execution_count": 11,
   "id": "a0c8b1c5",
   "metadata": {
    "execution": {
     "iopub.execute_input": "2022-05-29T13:42:47.870526Z",
     "iopub.status.busy": "2022-05-29T13:42:47.870206Z",
     "iopub.status.idle": "2022-05-29T13:42:47.873891Z",
     "shell.execute_reply": "2022-05-29T13:42:47.873050Z"
    },
    "papermill": {
     "duration": 0.052479,
     "end_time": "2022-05-29T13:42:47.875911",
     "exception": false,
     "start_time": "2022-05-29T13:42:47.823432",
     "status": "completed"
    },
    "tags": []
   },
   "outputs": [],
   "source": [
    "#p=sns.pairplot(df1, hue = 'Diabetes_012')\n"
   ]
  },
  {
   "cell_type": "code",
   "execution_count": 12,
   "id": "b07d3e1e",
   "metadata": {
    "execution": {
     "iopub.execute_input": "2022-05-29T13:42:47.969229Z",
     "iopub.status.busy": "2022-05-29T13:42:47.968657Z",
     "iopub.status.idle": "2022-05-29T13:42:49.211817Z",
     "shell.execute_reply": "2022-05-29T13:42:49.210838Z"
    },
    "papermill": {
     "duration": 1.292755,
     "end_time": "2022-05-29T13:42:49.214960",
     "exception": false,
     "start_time": "2022-05-29T13:42:47.922205",
     "status": "completed"
    },
    "tags": []
   },
   "outputs": [
    {
     "data": {
      "image/png": "[encoded data removed]",
      "text/plain": [
       "<Figure size 864x720 with 2 Axes>"
      ]
     },
     "metadata": {
      "needs_background": "light"
     },
     "output_type": "display_data"
    }
   ],
   "source": [
    "plt.figure(figsize=(12,10))  # on this line I just set the size of figure to 12 by 10.\n",
    "p=sns.heatmap(df1.corr(), annot=True,cmap ='RdYlGn')  # seaborn has very simple solution for heatmap"
   ]
  },
  {
   "cell_type": "markdown",
   "id": "0e634966",
   "metadata": {
    "papermill": {
     "duration": 0.050055,
     "end_time": "2022-05-29T13:42:49.315501",
     "exception": false,
     "start_time": "2022-05-29T13:42:49.265446",
     "status": "completed"
    },
    "tags": []
   },
   "source": [
    "df2=df"
   ]
  },
  {
   "cell_type": "code",
   "execution_count": 13,
   "id": "6461ae13",
   "metadata": {
    "execution": {
     "iopub.execute_input": "2022-05-29T13:42:49.416626Z",
     "iopub.status.busy": "2022-05-29T13:42:49.416334Z",
     "iopub.status.idle": "2022-05-29T13:42:49.427629Z",
     "shell.execute_reply": "2022-05-29T13:42:49.426737Z"
    },
    "papermill": {
     "duration": 0.064467,
     "end_time": "2022-05-29T13:42:49.429796",
     "exception": false,
     "start_time": "2022-05-29T13:42:49.365329",
     "status": "completed"
    },
    "tags": []
   },
   "outputs": [
    {
     "data": {
      "text/plain": [
       "0.0    213703\n",
       "2.0     35346\n",
       "1.0      4631\n",
       "Name: Diabetes_012, dtype: int64"
      ]
     },
     "execution_count": 13,
     "metadata": {},
     "output_type": "execute_result"
    }
   ],
   "source": [
    "df1['Diabetes_012'].value_counts()"
   ]
  },
  {
   "cell_type": "code",
   "execution_count": 14,
   "id": "7666bdb2",
   "metadata": {
    "execution": {
     "iopub.execute_input": "2022-05-29T13:42:49.531602Z",
     "iopub.status.busy": "2022-05-29T13:42:49.531329Z",
     "iopub.status.idle": "2022-05-29T13:42:49.722077Z",
     "shell.execute_reply": "2022-05-29T13:42:49.721237Z"
    },
    "papermill": {
     "duration": 0.244694,
     "end_time": "2022-05-29T13:42:49.724184",
     "exception": false,
     "start_time": "2022-05-29T13:42:49.479490",
     "status": "completed"
    },
    "tags": []
   },
   "outputs": [
    {
     "data": {
      "text/plain": [
       "<AxesSubplot:xlabel='Diabetes_012', ylabel='count'>"
      ]
     },
     "execution_count": 14,
     "metadata": {},
     "output_type": "execute_result"
    },
    {
     "data": {
      "image/png": "[encoded data removed]",
      "text/plain": [
       "<Figure size 432x288 with 1 Axes>"
      ]
     },
     "metadata": {
      "needs_background": "light"
     },
     "output_type": "display_data"
    }
   ],
   "source": [
    "sns.countplot(df1['Diabetes_012'])"
   ]
  },
  {
   "cell_type": "code",
   "execution_count": 15,
   "id": "4b21bc2d",
   "metadata": {
    "execution": {
     "iopub.execute_input": "2022-05-29T13:42:49.829923Z",
     "iopub.status.busy": "2022-05-29T13:42:49.829610Z",
     "iopub.status.idle": "2022-05-29T13:42:49.833432Z",
     "shell.execute_reply": "2022-05-29T13:42:49.832425Z"
    },
    "papermill": {
     "duration": 0.060787,
     "end_time": "2022-05-29T13:42:49.835511",
     "exception": false,
     "start_time": "2022-05-29T13:42:49.774724",
     "status": "completed"
    },
    "tags": []
   },
   "outputs": [],
   "source": [
    "#df1=df1.head(5000)"
   ]
  },
  {
   "cell_type": "code",
   "execution_count": 16,
   "id": "236f247c",
   "metadata": {
    "execution": {
     "iopub.execute_input": "2022-05-29T13:42:49.960942Z",
     "iopub.status.busy": "2022-05-29T13:42:49.960518Z",
     "iopub.status.idle": "2022-05-29T13:42:49.966388Z",
     "shell.execute_reply": "2022-05-29T13:42:49.965796Z"
    },
    "papermill": {
     "duration": 0.079797,
     "end_time": "2022-05-29T13:42:49.968955",
     "exception": false,
     "start_time": "2022-05-29T13:42:49.889158",
     "status": "completed"
    },
    "tags": []
   },
   "outputs": [
    {
     "data": {
      "text/plain": [
       "(253680, 14)"
      ]
     },
     "execution_count": 16,
     "metadata": {},
     "output_type": "execute_result"
    }
   ],
   "source": [
    "df1.shape\n"
   ]
  },
  {
   "cell_type": "code",
   "execution_count": 17,
   "id": "5fe68edc",
   "metadata": {
    "execution": {
     "iopub.execute_input": "2022-05-29T13:42:50.072928Z",
     "iopub.status.busy": "2022-05-29T13:42:50.072548Z",
     "iopub.status.idle": "2022-05-29T13:42:50.085734Z",
     "shell.execute_reply": "2022-05-29T13:42:50.085099Z"
    },
    "papermill": {
     "duration": 0.067264,
     "end_time": "2022-05-29T13:42:50.087593",
     "exception": false,
     "start_time": "2022-05-29T13:42:50.020329",
     "status": "completed"
    },
    "tags": []
   },
   "outputs": [],
   "source": [
    "y=df1['Diabetes_012']\n",
    "X=df1.drop('Diabetes_012',axis=1)"
   ]
  },
  {
   "cell_type": "code",
   "execution_count": 18,
   "id": "a764eb20",
   "metadata": {
    "execution": {
     "iopub.execute_input": "2022-05-29T13:42:50.193046Z",
     "iopub.status.busy": "2022-05-29T13:42:50.192757Z",
     "iopub.status.idle": "2022-05-29T13:42:53.820634Z",
     "shell.execute_reply": "2022-05-29T13:42:53.819146Z"
    },
    "papermill": {
     "duration": 3.683437,
     "end_time": "2022-05-29T13:42:53.822912",
     "exception": false,
     "start_time": "2022-05-29T13:42:50.139475",
     "status": "completed"
    },
    "tags": []
   },
   "outputs": [
    {
     "name": "stdout",
     "output_type": "stream",
     "text": [
      "Class=0, n=213703 (33.333%)\n",
      "Class=2, n=213703 (33.333%)\n",
      "Class=1, n=213703 (33.333%)\n"
     ]
    },
    {
     "data": {
      "image/png": "[encoded data removed]",
      "text/plain": [
       "<Figure size 432x288 with 1 Axes>"
      ]
     },
     "metadata": {
      "needs_background": "light"
     },
     "output_type": "display_data"
    }
   ],
   "source": [
    "from imblearn.over_sampling import SMOTE\n",
    "from collections import Counter\n",
    "from matplotlib import pyplot\n",
    "oversample = SMOTE()\n",
    "X, y = oversample.fit_resample(X, y)\n",
    "counter = Counter(y)\n",
    "for k,v in counter.items():\n",
    "    per = v / len(y) * 100\n",
    "    print('Class=%d, n=%d (%.3f%%)' % (k, v, per))\n",
    "# plot the distribution\n",
    "pyplot.bar(counter.keys(), counter.values())\n",
    "pyplot.show()"
   ]
  },
  {
   "cell_type": "code",
   "execution_count": 19,
   "id": "3d59949a",
   "metadata": {
    "execution": {
     "iopub.execute_input": "2022-05-29T13:42:53.930231Z",
     "iopub.status.busy": "2022-05-29T13:42:53.929980Z",
     "iopub.status.idle": "2022-05-29T13:42:53.953233Z",
     "shell.execute_reply": "2022-05-29T13:42:53.952316Z"
    },
    "papermill": {
     "duration": 0.079235,
     "end_time": "2022-05-29T13:42:53.955381",
     "exception": false,
     "start_time": "2022-05-29T13:42:53.876146",
     "status": "completed"
    },
    "tags": []
   },
   "outputs": [
    {
     "data": {
      "text/html": [
       "<div>\n",
       "<style scoped>\n",
       "    .dataframe tbody tr th:only-of-type {\n",
       "        vertical-align: middle;\n",
       "    }\n",
       "\n",
       "    .dataframe tbody tr th {\n",
       "        vertical-align: top;\n",
       "    }\n",
       "\n",
       "    .dataframe thead th {\n",
       "        text-align: right;\n",
       "    }\n",
       "</style>\n",
       "<table border=\"1\" class=\"dataframe\">\n",
       "  <thead>\n",
       "    <tr style=\"text-align: right;\">\n",
       "      <th></th>\n",
       "      <th>HighBP</th>\n",
       "      <th>HighChol</th>\n",
       "      <th>CholCheck</th>\n",
       "      <th>BMI</th>\n",
       "      <th>Smoker</th>\n",
       "      <th>Stroke</th>\n",
       "      <th>HeartDiseaseorAttack</th>\n",
       "      <th>PhysActivity</th>\n",
       "      <th>Fruits</th>\n",
       "      <th>Veggies</th>\n",
       "      <th>HvyAlcoholConsump</th>\n",
       "      <th>Sex</th>\n",
       "      <th>Age</th>\n",
       "    </tr>\n",
       "  </thead>\n",
       "  <tbody>\n",
       "    <tr>\n",
       "      <th>0</th>\n",
       "      <td>1.0</td>\n",
       "      <td>1.0</td>\n",
       "      <td>1.0</td>\n",
       "      <td>40.0</td>\n",
       "      <td>1.0</td>\n",
       "      <td>0.0</td>\n",
       "      <td>0.0</td>\n",
       "      <td>0.0</td>\n",
       "      <td>0.0</td>\n",
       "      <td>1.0</td>\n",
       "      <td>0.0</td>\n",
       "      <td>0.0</td>\n",
       "      <td>9.0</td>\n",
       "    </tr>\n",
       "    <tr>\n",
       "      <th>1</th>\n",
       "      <td>0.0</td>\n",
       "      <td>0.0</td>\n",
       "      <td>0.0</td>\n",
       "      <td>25.0</td>\n",
       "      <td>1.0</td>\n",
       "      <td>0.0</td>\n",
       "      <td>0.0</td>\n",
       "      <td>1.0</td>\n",
       "      <td>0.0</td>\n",
       "      <td>0.0</td>\n",
       "      <td>0.0</td>\n",
       "      <td>0.0</td>\n",
       "      <td>7.0</td>\n",
       "    </tr>\n",
       "    <tr>\n",
       "      <th>2</th>\n",
       "      <td>1.0</td>\n",
       "      <td>1.0</td>\n",
       "      <td>1.0</td>\n",
       "      <td>28.0</td>\n",
       "      <td>0.0</td>\n",
       "      <td>0.0</td>\n",
       "      <td>0.0</td>\n",
       "      <td>0.0</td>\n",
       "      <td>1.0</td>\n",
       "      <td>0.0</td>\n",
       "      <td>0.0</td>\n",
       "      <td>0.0</td>\n",
       "      <td>9.0</td>\n",
       "    </tr>\n",
       "    <tr>\n",
       "      <th>3</th>\n",
       "      <td>1.0</td>\n",
       "      <td>0.0</td>\n",
       "      <td>1.0</td>\n",
       "      <td>27.0</td>\n",
       "      <td>0.0</td>\n",
       "      <td>0.0</td>\n",
       "      <td>0.0</td>\n",
       "      <td>1.0</td>\n",
       "      <td>1.0</td>\n",
       "      <td>1.0</td>\n",
       "      <td>0.0</td>\n",
       "      <td>0.0</td>\n",
       "      <td>11.0</td>\n",
       "    </tr>\n",
       "    <tr>\n",
       "      <th>4</th>\n",
       "      <td>1.0</td>\n",
       "      <td>1.0</td>\n",
       "      <td>1.0</td>\n",
       "      <td>24.0</td>\n",
       "      <td>0.0</td>\n",
       "      <td>0.0</td>\n",
       "      <td>0.0</td>\n",
       "      <td>1.0</td>\n",
       "      <td>1.0</td>\n",
       "      <td>1.0</td>\n",
       "      <td>0.0</td>\n",
       "      <td>0.0</td>\n",
       "      <td>11.0</td>\n",
       "    </tr>\n",
       "  </tbody>\n",
       "</table>\n",
       "</div>"
      ],
      "text/plain": [
       "   HighBP  HighChol  CholCheck   BMI  Smoker  Stroke  HeartDiseaseorAttack  \\\n",
       "0     1.0       1.0        1.0  40.0     1.0     0.0                   0.0   \n",
       "1     0.0       0.0        0.0  25.0     1.0     0.0                   0.0   \n",
       "2     1.0       1.0        1.0  28.0     0.0     0.0                   0.0   \n",
       "3     1.0       0.0        1.0  27.0     0.0     0.0                   0.0   \n",
       "4     1.0       1.0        1.0  24.0     0.0     0.0                   0.0   \n",
       "\n",
       "   PhysActivity  Fruits  Veggies  HvyAlcoholConsump  Sex   Age  \n",
       "0           0.0     0.0      1.0                0.0  0.0   9.0  \n",
       "1           1.0     0.0      0.0                0.0  0.0   7.0  \n",
       "2           0.0     1.0      0.0                0.0  0.0   9.0  \n",
       "3           1.0     1.0      1.0                0.0  0.0  11.0  \n",
       "4           1.0     1.0      1.0                0.0  0.0  11.0  "
      ]
     },
     "execution_count": 19,
     "metadata": {},
     "output_type": "execute_result"
    }
   ],
   "source": [
    "X.head()"
   ]
  },
  {
   "cell_type": "code",
   "execution_count": 20,
   "id": "790d0464",
   "metadata": {
    "execution": {
     "iopub.execute_input": "2022-05-29T13:42:54.064112Z",
     "iopub.status.busy": "2022-05-29T13:42:54.063817Z",
     "iopub.status.idle": "2022-05-29T13:42:54.068946Z",
     "shell.execute_reply": "2022-05-29T13:42:54.068268Z"
    },
    "papermill": {
     "duration": 0.06219,
     "end_time": "2022-05-29T13:42:54.071082",
     "exception": false,
     "start_time": "2022-05-29T13:42:54.008892",
     "status": "completed"
    },
    "tags": []
   },
   "outputs": [
    {
     "data": {
      "text/plain": [
       "(641109, 13)"
      ]
     },
     "execution_count": 20,
     "metadata": {},
     "output_type": "execute_result"
    }
   ],
   "source": [
    "X.shape"
   ]
  },
  {
   "cell_type": "code",
   "execution_count": 21,
   "id": "82c48900",
   "metadata": {
    "execution": {
     "iopub.execute_input": "2022-05-29T13:42:54.180024Z",
     "iopub.status.busy": "2022-05-29T13:42:54.179442Z",
     "iopub.status.idle": "2022-05-29T13:42:54.185765Z",
     "shell.execute_reply": "2022-05-29T13:42:54.185103Z"
    },
    "papermill": {
     "duration": 0.06277,
     "end_time": "2022-05-29T13:42:54.187653",
     "exception": false,
     "start_time": "2022-05-29T13:42:54.124883",
     "status": "completed"
    },
    "tags": []
   },
   "outputs": [
    {
     "data": {
      "text/plain": [
       "0    0.0\n",
       "1    0.0\n",
       "2    0.0\n",
       "3    0.0\n",
       "4    0.0\n",
       "Name: Diabetes_012, dtype: float64"
      ]
     },
     "execution_count": 21,
     "metadata": {},
     "output_type": "execute_result"
    }
   ],
   "source": [
    "y.head()"
   ]
  },
  {
   "cell_type": "code",
   "execution_count": 22,
   "id": "e2ce58ba",
   "metadata": {
    "execution": {
     "iopub.execute_input": "2022-05-29T13:42:54.298084Z",
     "iopub.status.busy": "2022-05-29T13:42:54.297539Z",
     "iopub.status.idle": "2022-05-29T13:42:54.300699Z",
     "shell.execute_reply": "2022-05-29T13:42:54.300072Z"
    },
    "papermill": {
     "duration": 0.060985,
     "end_time": "2022-05-29T13:42:54.302463",
     "exception": false,
     "start_time": "2022-05-29T13:42:54.241478",
     "status": "completed"
    },
    "tags": []
   },
   "outputs": [],
   "source": [
    "#df2['Diabetes_012'].unique()"
   ]
  },
  {
   "cell_type": "code",
   "execution_count": 23,
   "id": "11633d5c",
   "metadata": {
    "execution": {
     "iopub.execute_input": "2022-05-29T13:42:54.413126Z",
     "iopub.status.busy": "2022-05-29T13:42:54.412593Z",
     "iopub.status.idle": "2022-05-29T13:42:54.821975Z",
     "shell.execute_reply": "2022-05-29T13:42:54.821068Z"
    },
    "papermill": {
     "duration": 0.467518,
     "end_time": "2022-05-29T13:42:54.824426",
     "exception": false,
     "start_time": "2022-05-29T13:42:54.356908",
     "status": "completed"
    },
    "tags": []
   },
   "outputs": [],
   "source": [
    "#importing train_test_split\n",
    "from sklearn.model_selection import train_test_split\n",
    "X_train,X_test,y_train,y_test = train_test_split(X,y,test_size=1/3,random_state=42, stratify=y)"
   ]
  },
  {
   "cell_type": "code",
   "execution_count": 24,
   "id": "ce569737",
   "metadata": {
    "execution": {
     "iopub.execute_input": "2022-05-29T13:42:54.935381Z",
     "iopub.status.busy": "2022-05-29T13:42:54.934833Z",
     "iopub.status.idle": "2022-05-29T13:42:54.941070Z",
     "shell.execute_reply": "2022-05-29T13:42:54.939769Z"
    },
    "papermill": {
     "duration": 0.064207,
     "end_time": "2022-05-29T13:42:54.943796",
     "exception": false,
     "start_time": "2022-05-29T13:42:54.879589",
     "status": "completed"
    },
    "tags": []
   },
   "outputs": [
    {
     "name": "stdout",
     "output_type": "stream",
     "text": [
      "(427406, 13)\n",
      "(427406,)\n",
      "(213703, 13)\n",
      "(213703,)\n"
     ]
    }
   ],
   "source": [
    "print(X_train.shape)\n",
    "print(y_train.shape)\n",
    "print(X_test.shape)\n",
    "print(y_test.shape)\n"
   ]
  },
  {
   "cell_type": "code",
   "execution_count": 25,
   "id": "177c06fa",
   "metadata": {
    "execution": {
     "iopub.execute_input": "2022-05-29T13:42:55.056319Z",
     "iopub.status.busy": "2022-05-29T13:42:55.055758Z",
     "iopub.status.idle": "2022-05-29T13:44:30.448013Z",
     "shell.execute_reply": "2022-05-29T13:44:30.447034Z"
    },
    "papermill": {
     "duration": 95.450005,
     "end_time": "2022-05-29T13:44:30.450250",
     "exception": false,
     "start_time": "2022-05-29T13:42:55.000245",
     "status": "completed"
    },
    "tags": []
   },
   "outputs": [
    {
     "data": {
      "application/vnd.jupyter.widget-view+json": {
       "model_id": "aec2ccfa32d44038a88a17e854185d46",
       "version_major": 2,
       "version_minor": 0
      },
      "text/plain": [
       "  0%|          | 0/14 [00:00<?, ?it/s]"
      ]
     },
     "metadata": {},
     "output_type": "display_data"
    }
   ],
   "source": [
    "from sklearn.ensemble import RandomForestClassifier\n",
    "from sklearn.neighbors import KNeighborsClassifier\n",
    "from tqdm.notebook import tqdm\n",
    "\n",
    "\n",
    "\n",
    "\n",
    "\n",
    "test_scores = []\n",
    "train_scores = []\n",
    "\n",
    "for i in tqdm (range(1,15)):\n",
    "#for i in range(1,15):\n",
    "\n",
    "    rf =  RandomForestClassifier(i)\n",
    "    rf.fit(X_train,y_train)\n",
    "    \n",
    "    train_scores.append(rf.score(X_train,y_train))\n",
    "    test_scores.append(rf.score(X_test,y_test))"
   ]
  },
  {
   "cell_type": "code",
   "execution_count": 26,
   "id": "6f1f778f",
   "metadata": {
    "execution": {
     "iopub.execute_input": "2022-05-29T13:44:30.561371Z",
     "iopub.status.busy": "2022-05-29T13:44:30.560492Z",
     "iopub.status.idle": "2022-05-29T13:44:30.567585Z",
     "shell.execute_reply": "2022-05-29T13:44:30.566565Z"
    },
    "papermill": {
     "duration": 0.06464,
     "end_time": "2022-05-29T13:44:30.569605",
     "exception": false,
     "start_time": "2022-05-29T13:44:30.504965",
     "status": "completed"
    },
    "tags": []
   },
   "outputs": [
    {
     "name": "stdout",
     "output_type": "stream",
     "text": [
      "Max train score 91.16296916748946 % and k = [13]\n"
     ]
    }
   ],
   "source": [
    "## score that comes from testing on the same datapoints that were used for training\n",
    "max_train_score = max(train_scores)\n",
    "train_scores_ind = [i for i, v in enumerate(train_scores) if v == max_train_score]\n",
    "print('Max train score {} % and k = {}'.format(max_train_score*100,list(map(lambda x: x+1, train_scores_ind))))"
   ]
  },
  {
   "cell_type": "code",
   "execution_count": 27,
   "id": "21b77cae",
   "metadata": {
    "execution": {
     "iopub.execute_input": "2022-05-29T13:44:30.681267Z",
     "iopub.status.busy": "2022-05-29T13:44:30.680787Z",
     "iopub.status.idle": "2022-05-29T13:44:30.687533Z",
     "shell.execute_reply": "2022-05-29T13:44:30.686350Z"
    },
    "papermill": {
     "duration": 0.06516,
     "end_time": "2022-05-29T13:44:30.689651",
     "exception": false,
     "start_time": "2022-05-29T13:44:30.624491",
     "status": "completed"
    },
    "tags": []
   },
   "outputs": [
    {
     "name": "stdout",
     "output_type": "stream",
     "text": [
      "Max test score 85.14948316120972 % and k = [13]\n"
     ]
    }
   ],
   "source": [
    "max_test_score = max(test_scores)\n",
    "test_scores_ind = [i for i, v in enumerate(test_scores) if v == max_test_score]\n",
    "print('Max test score {} % and k = {}'.format(max_test_score*100,list(map(lambda x: x+1, test_scores_ind))))"
   ]
  },
  {
   "cell_type": "code",
   "execution_count": 28,
   "id": "2f309ac0",
   "metadata": {
    "execution": {
     "iopub.execute_input": "2022-05-29T13:44:30.802247Z",
     "iopub.status.busy": "2022-05-29T13:44:30.801609Z",
     "iopub.status.idle": "2022-05-29T13:44:31.059916Z",
     "shell.execute_reply": "2022-05-29T13:44:31.059115Z"
    },
    "papermill": {
     "duration": 0.31673,
     "end_time": "2022-05-29T13:44:31.061969",
     "exception": false,
     "start_time": "2022-05-29T13:44:30.745239",
     "status": "completed"
    },
    "tags": []
   },
   "outputs": [
    {
     "data": {
      "image/png": "[encoded data removed]",
      "text/plain": [
       "<Figure size 864x360 with 1 Axes>"
      ]
     },
     "metadata": {
      "needs_background": "light"
     },
     "output_type": "display_data"
    }
   ],
   "source": [
    "plt.figure(figsize=(12,5))\n",
    "p = sns.lineplot(range(1,15),train_scores,marker='*',label='Train Score')\n",
    "p = sns.lineplot(range(1,15),test_scores,marker='o',label='Test Score')"
   ]
  },
  {
   "cell_type": "code",
   "execution_count": 29,
   "id": "7343454b",
   "metadata": {
    "execution": {
     "iopub.execute_input": "2022-05-29T13:44:31.177609Z",
     "iopub.status.busy": "2022-05-29T13:44:31.177205Z",
     "iopub.status.idle": "2022-05-29T13:56:34.274774Z",
     "shell.execute_reply": "2022-05-29T13:56:34.273886Z"
    },
    "papermill": {
     "duration": 723.214374,
     "end_time": "2022-05-29T13:56:34.333637",
     "exception": false,
     "start_time": "2022-05-29T13:44:31.119263",
     "status": "completed"
    },
    "tags": []
   },
   "outputs": [
    {
     "data": {
      "text/plain": [
       "0.7162323411463574"
      ]
     },
     "execution_count": 29,
     "metadata": {},
     "output_type": "execute_result"
    }
   ],
   "source": [
    "rf = RandomForestClassifier(n_estimators= 1582,\n",
    " min_samples_split=100,\n",
    " min_samples_leaf= 10,\n",
    " max_features='auto',\n",
    " max_depth= 15)\n",
    "\n",
    "rf.fit(X_train,y_train)\n",
    "rf.score(X_test,y_test)"
   ]
  },
  {
   "cell_type": "code",
   "execution_count": 30,
   "id": "9d9e31c3",
   "metadata": {
    "execution": {
     "iopub.execute_input": "2022-05-29T13:56:34.449140Z",
     "iopub.status.busy": "2022-05-29T13:56:34.448818Z",
     "iopub.status.idle": "2022-05-29T13:57:35.192125Z",
     "shell.execute_reply": "2022-05-29T13:57:35.191244Z"
    },
    "papermill": {
     "duration": 60.862367,
     "end_time": "2022-05-29T13:57:35.252959",
     "exception": false,
     "start_time": "2022-05-29T13:56:34.390592",
     "status": "completed"
    },
    "tags": []
   },
   "outputs": [
    {
     "data": {
      "text/html": [
       "<div>\n",
       "<style scoped>\n",
       "    .dataframe tbody tr th:only-of-type {\n",
       "        vertical-align: middle;\n",
       "    }\n",
       "\n",
       "    .dataframe tbody tr th {\n",
       "        vertical-align: top;\n",
       "    }\n",
       "\n",
       "    .dataframe thead th {\n",
       "        text-align: right;\n",
       "    }\n",
       "</style>\n",
       "<table border=\"1\" class=\"dataframe\">\n",
       "  <thead>\n",
       "    <tr style=\"text-align: right;\">\n",
       "      <th>Predicted</th>\n",
       "      <th>0.0</th>\n",
       "      <th>1.0</th>\n",
       "      <th>2.0</th>\n",
       "      <th>All</th>\n",
       "    </tr>\n",
       "    <tr>\n",
       "      <th>True</th>\n",
       "      <th></th>\n",
       "      <th></th>\n",
       "      <th></th>\n",
       "      <th></th>\n",
       "    </tr>\n",
       "  </thead>\n",
       "  <tbody>\n",
       "    <tr>\n",
       "      <th>0.0</th>\n",
       "      <td>53999</td>\n",
       "      <td>1540</td>\n",
       "      <td>15695</td>\n",
       "      <td>71234</td>\n",
       "    </tr>\n",
       "    <tr>\n",
       "      <th>1.0</th>\n",
       "      <td>5458</td>\n",
       "      <td>53250</td>\n",
       "      <td>12526</td>\n",
       "      <td>71234</td>\n",
       "    </tr>\n",
       "    <tr>\n",
       "      <th>2.0</th>\n",
       "      <td>11222</td>\n",
       "      <td>14201</td>\n",
       "      <td>45812</td>\n",
       "      <td>71235</td>\n",
       "    </tr>\n",
       "    <tr>\n",
       "      <th>All</th>\n",
       "      <td>70679</td>\n",
       "      <td>68991</td>\n",
       "      <td>74033</td>\n",
       "      <td>213703</td>\n",
       "    </tr>\n",
       "  </tbody>\n",
       "</table>\n",
       "</div>"
      ],
      "text/plain": [
       "Predicted    0.0    1.0    2.0     All\n",
       "True                                  \n",
       "0.0        53999   1540  15695   71234\n",
       "1.0         5458  53250  12526   71234\n",
       "2.0        11222  14201  45812   71235\n",
       "All        70679  68991  74033  213703"
      ]
     },
     "execution_count": 30,
     "metadata": {},
     "output_type": "execute_result"
    }
   ],
   "source": [
    "from sklearn.metrics import confusion_matrix\n",
    "#let us get the predictions using the classifier we had fit above\n",
    "y_pred = rf.predict(X_test)\n",
    "confusion_matrix(y_test,y_pred)\n",
    "pd.crosstab(y_test, y_pred, rownames=['True'], colnames=['Predicted'], margins=True)"
   ]
  },
  {
   "cell_type": "code",
   "execution_count": 31,
   "id": "b5d1eb57",
   "metadata": {
    "execution": {
     "iopub.execute_input": "2022-05-29T13:57:35.370606Z",
     "iopub.status.busy": "2022-05-29T13:57:35.370177Z",
     "iopub.status.idle": "2022-05-29T13:58:36.133299Z",
     "shell.execute_reply": "2022-05-29T13:58:36.132442Z"
    },
    "papermill": {
     "duration": 60.824737,
     "end_time": "2022-05-29T13:58:36.135555",
     "exception": false,
     "start_time": "2022-05-29T13:57:35.310818",
     "status": "completed"
    },
    "tags": []
   },
   "outputs": [
    {
     "data": {
      "text/plain": [
       "Text(0.5, 15.0, 'Predicted label')"
      ]
     },
     "execution_count": 31,
     "metadata": {},
     "output_type": "execute_result"
    },
    {
     "data": {
      "image/png": "[encoded data removed]",
      "text/plain": [
       "<Figure size 432x288 with 2 Axes>"
      ]
     },
     "metadata": {
      "needs_background": "light"
     },
     "output_type": "display_data"
    }
   ],
   "source": [
    "y_pred = rf.predict(X_test)\n",
    "from sklearn import metrics\n",
    "cnf_matrix = metrics.confusion_matrix(y_test, y_pred)\n",
    "p = sns.heatmap(pd.DataFrame(cnf_matrix), annot=True, cmap=\"YlGnBu\" ,fmt='g')\n",
    "plt.title('Confusion matrix', y=1.1)\n",
    "plt.ylabel('Actual label')\n",
    "plt.xlabel('Predicted label')"
   ]
  },
  {
   "cell_type": "code",
   "execution_count": 32,
   "id": "d100420c",
   "metadata": {
    "execution": {
     "iopub.execute_input": "2022-05-29T13:58:36.255259Z",
     "iopub.status.busy": "2022-05-29T13:58:36.254742Z",
     "iopub.status.idle": "2022-05-29T13:58:37.157065Z",
     "shell.execute_reply": "2022-05-29T13:58:37.155750Z"
    },
    "papermill": {
     "duration": 0.965401,
     "end_time": "2022-05-29T13:58:37.159973",
     "exception": false,
     "start_time": "2022-05-29T13:58:36.194572",
     "status": "completed"
    },
    "tags": []
   },
   "outputs": [],
   "source": [
    "import pickle\n",
    "with open( \"diabetes_rf.pkl\", \"wb\" ) as f:\n",
    "    pickle.dump( rf, f)"
   ]
  },
  {
   "cell_type": "code",
   "execution_count": 33,
   "id": "015e7f33",
   "metadata": {
    "execution": {
     "iopub.execute_input": "2022-05-29T13:58:37.287639Z",
     "iopub.status.busy": "2022-05-29T13:58:37.286280Z",
     "iopub.status.idle": "2022-05-29T13:58:40.923208Z",
     "shell.execute_reply": "2022-05-29T13:58:40.922327Z"
    },
    "papermill": {
     "duration": 3.702439,
     "end_time": "2022-05-29T13:58:40.925413",
     "exception": false,
     "start_time": "2022-05-29T13:58:37.222974",
     "status": "completed"
    },
    "tags": []
   },
   "outputs": [
    {
     "data": {
      "text/plain": [
       "array([0.])"
      ]
     },
     "execution_count": 33,
     "metadata": {},
     "output_type": "execute_result"
    }
   ],
   "source": [
    "model = pickle.load(open(\"./diabetes_rf.pkl\", \"rb\"))\n",
    "prediction = model.predict([[\n",
    "            1.0,\n",
    "    1.0,\n",
    "    0.0,\n",
    "    27.0,\n",
    "    1.0,\n",
    "    0.0,\n",
    "    0.0,\n",
    "    0.0,\n",
    "    0.0,\n",
    "    1.0,\n",
    "    0.0,\n",
    "    0.0,\n",
    "    13.0\n",
    "\n",
    "        ]])\n",
    "prediction"
   ]
  },
  {
   "cell_type": "code",
   "execution_count": 34,
   "id": "4931b102",
   "metadata": {
    "execution": {
     "iopub.execute_input": "2022-05-29T13:58:41.059058Z",
     "iopub.status.busy": "2022-05-29T13:58:41.058337Z",
     "iopub.status.idle": "2022-05-29T13:58:41.065600Z",
     "shell.execute_reply": "2022-05-29T13:58:41.064944Z"
    },
    "papermill": {
     "duration": 0.071691,
     "end_time": "2022-05-29T13:58:41.067875",
     "exception": false,
     "start_time": "2022-05-29T13:58:40.996184",
     "status": "completed"
    },
    "tags": []
   },
   "outputs": [],
   "source": [
    "from sklearn.model_selection import RandomizedSearchCV\n",
    "#Randomized Search CV\n",
    "\n",
    "# Number of trees in random forest\n",
    "n_estimators = [int(x) for x in np.linspace(start = 100, stop = 2200, num = 120)]\n",
    "# Number of features to consider at every split\n",
    "max_features = ['auto', 'sqrt']\n",
    "# Maximum number of levels in tree\n",
    "max_depth = [int(x) for x in np.linspace(5, 30, num = 6)]\n",
    "# Minimum number of samples required to split a node\n",
    "min_samples_split = [2, 5, 10, 15, 100]\n",
    "# Minimum number of samples required at each leaf node\n",
    "min_samples_leaf = [1, 2, 5, 10]"
   ]
  },
  {
   "cell_type": "code",
   "execution_count": 35,
   "id": "ec36009c",
   "metadata": {
    "execution": {
     "iopub.execute_input": "2022-05-29T13:58:41.192352Z",
     "iopub.status.busy": "2022-05-29T13:58:41.191924Z",
     "iopub.status.idle": "2022-05-29T13:58:41.197669Z",
     "shell.execute_reply": "2022-05-29T13:58:41.196995Z"
    },
    "papermill": {
     "duration": 0.070924,
     "end_time": "2022-05-29T13:58:41.199729",
     "exception": false,
     "start_time": "2022-05-29T13:58:41.128805",
     "status": "completed"
    },
    "tags": []
   },
   "outputs": [],
   "source": [
    "# Create the random grid\n",
    "\n",
    "random_grid = {'n_estimators': n_estimators,\n",
    "               'max_features': max_features,\n",
    "               'max_depth': max_depth,\n",
    "               'min_samples_split': min_samples_split,\n",
    "               'min_samples_leaf': min_samples_leaf}\n",
    "rf_random = RandomizedSearchCV(estimator = rf, param_distributions = random_grid,scoring='neg_mean_squared_error', n_iter = 10, cv = 5, verbose=2, random_state=42, n_jobs = 1)\n"
   ]
  },
  {
   "cell_type": "code",
   "execution_count": 36,
   "id": "7b8a2ce4",
   "metadata": {
    "execution": {
     "iopub.execute_input": "2022-05-29T13:58:41.322009Z",
     "iopub.status.busy": "2022-05-29T13:58:41.321412Z",
     "iopub.status.idle": "2022-05-29T18:54:48.899326Z",
     "shell.execute_reply": "2022-05-29T18:54:48.897429Z"
    },
    "papermill": {
     "duration": 17767.723315,
     "end_time": "2022-05-29T18:54:48.983503",
     "exception": false,
     "start_time": "2022-05-29T13:58:41.260188",
     "status": "completed"
    },
    "tags": []
   },
   "outputs": [
    {
     "name": "stdout",
     "output_type": "stream",
     "text": [
      "Fitting 5 folds for each of 10 candidates, totalling 50 fits\n",
      "[CV] END max_depth=25, max_features=sqrt, min_samples_leaf=10, min_samples_split=10, n_estimators=347; total time= 2.3min\n",
      "[CV] END max_depth=25, max_features=sqrt, min_samples_leaf=10, min_samples_split=10, n_estimators=347; total time= 2.5min\n",
      "[CV] END max_depth=25, max_features=sqrt, min_samples_leaf=10, min_samples_split=10, n_estimators=347; total time= 2.6min\n",
      "[CV] END max_depth=25, max_features=sqrt, min_samples_leaf=10, min_samples_split=10, n_estimators=347; total time= 2.5min\n",
      "[CV] END max_depth=25, max_features=sqrt, min_samples_leaf=10, min_samples_split=10, n_estimators=347; total time= 2.6min\n",
      "[CV] END max_depth=20, max_features=auto, min_samples_leaf=5, min_samples_split=5, n_estimators=1423; total time=10.0min\n",
      "[CV] END max_depth=20, max_features=auto, min_samples_leaf=5, min_samples_split=5, n_estimators=1423; total time= 9.7min\n",
      "[CV] END max_depth=20, max_features=auto, min_samples_leaf=5, min_samples_split=5, n_estimators=1423; total time=10.1min\n",
      "[CV] END max_depth=20, max_features=auto, min_samples_leaf=5, min_samples_split=5, n_estimators=1423; total time= 9.4min\n",
      "[CV] END max_depth=20, max_features=auto, min_samples_leaf=5, min_samples_split=5, n_estimators=1423; total time= 9.0min\n",
      "[CV] END max_depth=5, max_features=auto, min_samples_leaf=2, min_samples_split=10, n_estimators=452; total time= 1.2min\n",
      "[CV] END max_depth=5, max_features=auto, min_samples_leaf=2, min_samples_split=10, n_estimators=452; total time= 1.3min\n",
      "[CV] END max_depth=5, max_features=auto, min_samples_leaf=2, min_samples_split=10, n_estimators=452; total time= 1.3min\n",
      "[CV] END max_depth=5, max_features=auto, min_samples_leaf=2, min_samples_split=10, n_estimators=452; total time= 1.3min\n",
      "[CV] END max_depth=5, max_features=auto, min_samples_leaf=2, min_samples_split=10, n_estimators=452; total time= 1.4min\n",
      "[CV] END max_depth=10, max_features=auto, min_samples_leaf=1, min_samples_split=100, n_estimators=2041; total time= 9.7min\n",
      "[CV] END max_depth=10, max_features=auto, min_samples_leaf=1, min_samples_split=100, n_estimators=2041; total time= 9.1min\n",
      "[CV] END max_depth=10, max_features=auto, min_samples_leaf=1, min_samples_split=100, n_estimators=2041; total time= 8.9min\n",
      "[CV] END max_depth=10, max_features=auto, min_samples_leaf=1, min_samples_split=100, n_estimators=2041; total time= 9.0min\n",
      "[CV] END max_depth=10, max_features=auto, min_samples_leaf=1, min_samples_split=100, n_estimators=2041; total time= 9.2min\n",
      "[CV] END max_depth=25, max_features=auto, min_samples_leaf=10, min_samples_split=100, n_estimators=1776; total time=10.5min\n",
      "[CV] END max_depth=25, max_features=auto, min_samples_leaf=10, min_samples_split=100, n_estimators=1776; total time=10.9min\n",
      "[CV] END max_depth=25, max_features=auto, min_samples_leaf=10, min_samples_split=100, n_estimators=1776; total time=10.6min\n",
      "[CV] END max_depth=25, max_features=auto, min_samples_leaf=10, min_samples_split=100, n_estimators=1776; total time=10.8min\n",
      "[CV] END max_depth=25, max_features=auto, min_samples_leaf=10, min_samples_split=100, n_estimators=1776; total time=10.6min\n",
      "[CV] END max_depth=15, max_features=auto, min_samples_leaf=10, min_samples_split=100, n_estimators=1582; total time= 8.7min\n",
      "[CV] END max_depth=15, max_features=auto, min_samples_leaf=10, min_samples_split=100, n_estimators=1582; total time= 8.6min\n",
      "[CV] END max_depth=15, max_features=auto, min_samples_leaf=10, min_samples_split=100, n_estimators=1582; total time= 8.9min\n",
      "[CV] END max_depth=15, max_features=auto, min_samples_leaf=10, min_samples_split=100, n_estimators=1582; total time= 8.6min\n",
      "[CV] END max_depth=15, max_features=auto, min_samples_leaf=10, min_samples_split=100, n_estimators=1582; total time= 8.8min\n",
      "[CV] END max_depth=15, max_features=auto, min_samples_leaf=5, min_samples_split=100, n_estimators=170; total time=  58.6s\n",
      "[CV] END max_depth=15, max_features=auto, min_samples_leaf=5, min_samples_split=100, n_estimators=170; total time=  59.1s\n",
      "[CV] END max_depth=15, max_features=auto, min_samples_leaf=5, min_samples_split=100, n_estimators=170; total time=  58.3s\n",
      "[CV] END max_depth=15, max_features=auto, min_samples_leaf=5, min_samples_split=100, n_estimators=170; total time=  57.5s\n",
      "[CV] END max_depth=15, max_features=auto, min_samples_leaf=5, min_samples_split=100, n_estimators=170; total time=  56.8s\n",
      "[CV] END max_depth=25, max_features=sqrt, min_samples_leaf=1, min_samples_split=100, n_estimators=770; total time= 5.0min\n",
      "[CV] END max_depth=25, max_features=sqrt, min_samples_leaf=1, min_samples_split=100, n_estimators=770; total time= 5.0min\n",
      "[CV] END max_depth=25, max_features=sqrt, min_samples_leaf=1, min_samples_split=100, n_estimators=770; total time= 4.9min\n",
      "[CV] END max_depth=25, max_features=sqrt, min_samples_leaf=1, min_samples_split=100, n_estimators=770; total time= 5.1min\n",
      "[CV] END max_depth=25, max_features=sqrt, min_samples_leaf=1, min_samples_split=100, n_estimators=770; total time= 5.0min\n",
      "[CV] END max_depth=10, max_features=auto, min_samples_leaf=5, min_samples_split=10, n_estimators=541; total time= 2.6min\n",
      "[CV] END max_depth=10, max_features=auto, min_samples_leaf=5, min_samples_split=10, n_estimators=541; total time= 2.6min\n",
      "[CV] END max_depth=10, max_features=auto, min_samples_leaf=5, min_samples_split=10, n_estimators=541; total time= 2.4min\n",
      "[CV] END max_depth=10, max_features=auto, min_samples_leaf=5, min_samples_split=10, n_estimators=541; total time= 2.5min\n",
      "[CV] END max_depth=10, max_features=auto, min_samples_leaf=5, min_samples_split=10, n_estimators=541; total time= 2.4min\n",
      "[CV] END max_depth=20, max_features=sqrt, min_samples_leaf=1, min_samples_split=2, n_estimators=982; total time= 6.9min\n",
      "[CV] END max_depth=20, max_features=sqrt, min_samples_leaf=1, min_samples_split=2, n_estimators=982; total time= 6.8min\n",
      "[CV] END max_depth=20, max_features=sqrt, min_samples_leaf=1, min_samples_split=2, n_estimators=982; total time= 7.1min\n",
      "[CV] END max_depth=20, max_features=sqrt, min_samples_leaf=1, min_samples_split=2, n_estimators=982; total time= 7.1min\n",
      "[CV] END max_depth=20, max_features=sqrt, min_samples_leaf=1, min_samples_split=2, n_estimators=982; total time= 7.3min\n"
     ]
    },
    {
     "data": {
      "text/plain": [
       "RandomizedSearchCV(cv=5,\n",
       "                   estimator=RandomForestClassifier(max_depth=15,\n",
       "                                                    min_samples_leaf=10,\n",
       "                                                    min_samples_split=100,\n",
       "                                                    n_estimators=1582),\n",
       "                   n_jobs=1,\n",
       "                   param_distributions={'max_depth': [5, 10, 15, 20, 25, 30],\n",
       "                                        'max_features': ['auto', 'sqrt'],\n",
       "                                        'min_samples_leaf': [1, 2, 5, 10],\n",
       "                                        'min_samples_split': [2, 5, 10, 15,\n",
       "                                                              100],\n",
       "                                        'n_estimators': [100, 117, 135, 152,\n",
       "                                                         170, 188, 205, 223,\n",
       "                                                         241, 258, 276, 294,\n",
       "                                                         311, 329, 347, 364,\n",
       "                                                         382, 400, 417, 435,\n",
       "                                                         452, 470, 488, 505,\n",
       "                                                         523, 541, 558, 576,\n",
       "                                                         594, 611, ...]},\n",
       "                   random_state=42, scoring='neg_mean_squared_error',\n",
       "                   verbose=2)"
      ]
     },
     "execution_count": 36,
     "metadata": {},
     "output_type": "execute_result"
    }
   ],
   "source": [
    "rf_random.fit(X_train,y_train)"
   ]
  },
  {
   "cell_type": "code",
   "execution_count": 37,
   "id": "511cf6f2",
   "metadata": {
    "execution": {
     "iopub.execute_input": "2022-05-29T18:54:49.150250Z",
     "iopub.status.busy": "2022-05-29T18:54:49.148808Z",
     "iopub.status.idle": "2022-05-29T18:54:49.159493Z",
     "shell.execute_reply": "2022-05-29T18:54:49.158462Z"
    },
    "papermill": {
     "duration": 0.097294,
     "end_time": "2022-05-29T18:54:49.161522",
     "exception": false,
     "start_time": "2022-05-29T18:54:49.064228",
     "status": "completed"
    },
    "tags": []
   },
   "outputs": [
    {
     "data": {
      "text/plain": [
       "{'n_estimators': 982,\n",
       " 'min_samples_split': 2,\n",
       " 'min_samples_leaf': 1,\n",
       " 'max_features': 'sqrt',\n",
       " 'max_depth': 20}"
      ]
     },
     "execution_count": 37,
     "metadata": {},
     "output_type": "execute_result"
    }
   ],
   "source": [
    "rf_random.best_params_"
   ]
  },
  {
   "cell_type": "code",
   "execution_count": null,
   "id": "0c238fa9",
   "metadata": {
    "papermill": {
     "duration": 0.078955,
     "end_time": "2022-05-29T18:54:49.320050",
     "exception": false,
     "start_time": "2022-05-29T18:54:49.241095",
     "status": "completed"
    },
    "tags": []
   },
   "outputs": [],
   "source": []
  }
 ],
 "metadata": {
  "kernelspec": {
   "display_name": "Python 3",
   "language": "python",
   "name": "python3"
  },
  "language_info": {
   "codemirror_mode": {
    "name": "ipython",
    "version": 3
   },
   "file_extension": ".py",
   "mimetype": "text/x-python",
   "name": "python",
   "nbconvert_exporter": "python",
   "pygments_lexer": "ipython3",
   "version": "3.7.12"
  },
  "papermill": {
   "default_parameters": {},
   "duration": 18742.580556,
   "end_time": "2022-05-29T18:54:51.193455",
   "environment_variables": {},
   "exception": null,
   "input_path": "__notebook__.ipynb",
   "output_path": "__notebook__.ipynb",
   "parameters": {},
   "start_time": "2022-05-29T13:42:28.612899",
   "version": "2.3.4"
  },
  "widgets": {
   "application/vnd.jupyter.widget-state+json": {
    "state": {
     "0f53aad4f4f148f28e042a114f806d28": {
      "model_module": "@jupyter-widgets/controls",
      "model_module_version": "1.5.0",
      "model_name": "FloatProgressModel",
      "state": {
       "_dom_classes": [],
       "_model_module": "@jupyter-widgets/controls",
       "_model_module_version": "1.5.0",
       "_model_name": "FloatProgressModel",
       "_view_count": null,
       "_view_module": "@jupyter-widgets/controls",
       "_view_module_version": "1.5.0",
       "_view_name": "ProgressView",
       "bar_style": "success",
       "description": "",
       "description_tooltip": null,
       "layout": "IPY_MODEL_2e61c8eb59a94f63aa68c01353b60e99",
       "max": 14.0,
       "min": 0.0,
       "orientation": "horizontal",
       "style": "IPY_MODEL_f900b3db5c3c46fdb978c1878f275b2d",
       "value": 14.0
      }
     },
     "1e00d0eb02ab4be18672c013ebe496ff": {
      "model_module": "@jupyter-widgets/base",
      "model_module_version": "1.2.0",
      "model_name": "LayoutModel",
      "state": {
       "_model_module": "@jupyter-widgets/base",
       "_model_module_version": "1.2.0",
       "_model_name": "LayoutModel",
       "_view_count": null,
       "_view_module": "@jupyter-widgets/base",
       "_view_module_version": "1.2.0",
       "_view_name": "LayoutView",
       "align_content": null,
       "align_items": null,
       "align_self": null,
       "border": null,
       "bottom": null,
       "display": null,
       "flex": null,
       "flex_flow": null,
       "grid_area": null,
       "grid_auto_columns": null,
       "grid_auto_flow": null,
       "grid_auto_rows": null,
       "grid_column": null,
       "grid_gap": null,
       "grid_row": null,
       "grid_template_areas": null,
       "grid_template_columns": null,
       "grid_template_rows": null,
       "height": null,
       "justify_content": null,
       "justify_items": null,
       "left": null,
       "margin": null,
       "max_height": null,
       "max_width": null,
       "min_height": null,
       "min_width": null,
       "object_fit": null,
       "object_position": null,
       "order": null,
       "overflow": null,
       "overflow_x": null,
       "overflow_y": null,
       "padding": null,
       "right": null,
       "top": null,
       "visibility": null,
       "width": null
      }
     },
     "2e61c8eb59a94f63aa68c01353b60e99": {
      "model_module": "@jupyter-widgets/base",
      "model_module_version": "1.2.0",
      "model_name": "LayoutModel",
      "state": {
       "_model_module": "@jupyter-widgets/base",
       "_model_module_version": "1.2.0",
       "_model_name": "LayoutModel",
       "_view_count": null,
       "_view_module": "@jupyter-widgets/base",
       "_view_module_version": "1.2.0",
       "_view_name": "LayoutView",
       "align_content": null,
       "align_items": null,
       "align_self": null,
       "border": null,
       "bottom": null,
       "display": null,
       "flex": null,
       "flex_flow": null,
       "grid_area": null,
       "grid_auto_columns": null,
       "grid_auto_flow": null,
       "grid_auto_rows": null,
       "grid_column": null,
       "grid_gap": null,
       "grid_row": null,
       "grid_template_areas": null,
       "grid_template_columns": null,
       "grid_template_rows": null,
       "height": null,
       "justify_content": null,
       "justify_items": null,
       "left": null,
       "margin": null,
       "max_height": null,
       "max_width": null,
       "min_height": null,
       "min_width": null,
       "object_fit": null,
       "object_position": null,
       "order": null,
       "overflow": null,
       "overflow_x": null,
       "overflow_y": null,
       "padding": null,
       "right": null,
       "top": null,
       "visibility": null,
       "width": null
      }
     },
     "36c1aa00ddd24cadb96d10e55f42211d": {
      "model_module": "@jupyter-widgets/controls",
      "model_module_version": "1.5.0",
      "model_name": "DescriptionStyleModel",
      "state": {
       "_model_module": "@jupyter-widgets/controls",
       "_model_module_version": "1.5.0",
       "_model_name": "DescriptionStyleModel",
       "_view_count": null,
       "_view_module": "@jupyter-widgets/base",
       "_view_module_version": "1.2.0",
       "_view_name": "StyleView",
       "description_width": ""
      }
     },
     "3d635b60801444a1ae7942609a21f560": {
      "model_module": "@jupyter-widgets/base",
      "model_module_version": "1.2.0",
      "model_name": "LayoutModel",
      "state": {
       "_model_module": "@jupyter-widgets/base",
       "_model_module_version": "1.2.0",
       "_model_name": "LayoutModel",
       "_view_count": null,
       "_view_module": "@jupyter-widgets/base",
       "_view_module_version": "1.2.0",
       "_view_name": "LayoutView",
       "align_content": null,
       "align_items": null,
       "align_self": null,
       "border": null,
       "bottom": null,
       "display": null,
       "flex": null,
       "flex_flow": null,
       "grid_area": null,
       "grid_auto_columns": null,
       "grid_auto_flow": null,
       "grid_auto_rows": null,
       "grid_column": null,
       "grid_gap": null,
       "grid_row": null,
       "grid_template_areas": null,
       "grid_template_columns": null,
       "grid_template_rows": null,
       "height": null,
       "justify_content": null,
       "justify_items": null,
       "left": null,
       "margin": null,
       "max_height": null,
       "max_width": null,
       "min_height": null,
       "min_width": null,
       "object_fit": null,
       "object_position": null,
       "order": null,
       "overflow": null,
       "overflow_x": null,
       "overflow_y": null,
       "padding": null,
       "right": null,
       "top": null,
       "visibility": null,
       "width": null
      }
     },
     "78a2b413bf76496bbedb49c7bd8d5fdd": {
      "model_module": "@jupyter-widgets/base",
      "model_module_version": "1.2.0",
      "model_name": "LayoutModel",
      "state": {
       "_model_module": "@jupyter-widgets/base",
       "_model_module_version": "1.2.0",
       "_model_name": "LayoutModel",
       "_view_count": null,
       "_view_module": "@jupyter-widgets/base",
       "_view_module_version": "1.2.0",
       "_view_name": "LayoutView",
       "align_content": null,
       "align_items": null,
       "align_self": null,
       "border": null,
       "bottom": null,
       "display": null,
       "flex": null,
       "flex_flow": null,
       "grid_area": null,
       "grid_auto_columns": null,
       "grid_auto_flow": null,
       "grid_auto_rows": null,
       "grid_column": null,
       "grid_gap": null,
       "grid_row": null,
       "grid_template_areas": null,
       "grid_template_columns": null,
       "grid_template_rows": null,
       "height": null,
       "justify_content": null,
       "justify_items": null,
       "left": null,
       "margin": null,
       "max_height": null,
       "max_width": null,
       "min_height": null,
       "min_width": null,
       "object_fit": null,
       "object_position": null,
       "order": null,
       "overflow": null,
       "overflow_x": null,
       "overflow_y": null,
       "padding": null,
       "right": null,
       "top": null,
       "visibility": null,
       "width": null
      }
     },
     "82fef7c91fdc45f997cb34172f423597": {
      "model_module": "@jupyter-widgets/controls",
      "model_module_version": "1.5.0",
      "model_name": "HTMLModel",
      "state": {
       "_dom_classes": [],
       "_model_module": "@jupyter-widgets/controls",
       "_model_module_version": "1.5.0",
       "_model_name": "HTMLModel",
       "_view_count": null,
       "_view_module": "@jupyter-widgets/controls",
       "_view_module_version": "1.5.0",
       "_view_name": "HTMLView",
       "description": "",
       "description_tooltip": null,
       "layout": "IPY_MODEL_78a2b413bf76496bbedb49c7bd8d5fdd",
       "placeholder": "​",
       "style": "IPY_MODEL_36c1aa00ddd24cadb96d10e55f42211d",
       "value": " 14/14 [01:35&lt;00:00, 10.80s/it]"
      }
     },
     "aec2ccfa32d44038a88a17e854185d46": {
      "model_module": "@jupyter-widgets/controls",
      "model_module_version": "1.5.0",
      "model_name": "HBoxModel",
      "state": {
       "_dom_classes": [],
       "_model_module": "@jupyter-widgets/controls",
       "_model_module_version": "1.5.0",
       "_model_name": "HBoxModel",
       "_view_count": null,
       "_view_module": "@jupyter-widgets/controls",
       "_view_module_version": "1.5.0",
       "_view_name": "HBoxView",
       "box_style": "",
       "children": [
        "IPY_MODEL_f74b070d6bbc4af28a2c49152670d4d1",
        "IPY_MODEL_0f53aad4f4f148f28e042a114f806d28",
        "IPY_MODEL_82fef7c91fdc45f997cb34172f423597"
       ],
       "layout": "IPY_MODEL_1e00d0eb02ab4be18672c013ebe496ff"
      }
     },
     "ef6d3c04e8e744e2ac04abd09758e879": {
      "model_module": "@jupyter-widgets/controls",
      "model_module_version": "1.5.0",
      "model_name": "DescriptionStyleModel",
      "state": {
       "_model_module": "@jupyter-widgets/controls",
       "_model_module_version": "1.5.0",
       "_model_name": "DescriptionStyleModel",
       "_view_count": null,
       "_view_module": "@jupyter-widgets/base",
       "_view_module_version": "1.2.0",
       "_view_name": "StyleView",
       "description_width": ""
      }
     },
     "f74b070d6bbc4af28a2c49152670d4d1": {
      "model_module": "@jupyter-widgets/controls",
      "model_module_version": "1.5.0",
      "model_name": "HTMLModel",
      "state": {
       "_dom_classes": [],
       "_model_module": "@jupyter-widgets/controls",
       "_model_module_version": "1.5.0",
       "_model_name": "HTMLModel",
       "_view_count": null,
       "_view_module": "@jupyter-widgets/controls",
       "_view_module_version": "1.5.0",
       "_view_name": "HTMLView",
       "description": "",
       "description_tooltip": null,
       "layout": "IPY_MODEL_3d635b60801444a1ae7942609a21f560",
       "placeholder": "​",
       "style": "IPY_MODEL_ef6d3c04e8e744e2ac04abd09758e879",
       "value": "100%"
      }
     },
     "f900b3db5c3c46fdb978c1878f275b2d": {
      "model_module": "@jupyter-widgets/controls",
      "model_module_version": "1.5.0",
      "model_name": "ProgressStyleModel",
      "state": {
       "_model_module": "@jupyter-widgets/controls",
       "_model_module_version": "1.5.0",
       "_model_name": "ProgressStyleModel",
       "_view_count": null,
       "_view_module": "@jupyter-widgets/base",
       "_view_module_version": "1.2.0",
       "_view_name": "StyleView",
       "bar_color": null,
       "description_width": ""
      }
     }
    },
    "version_major": 2,
    "version_minor": 0
   }
  }
 },
 "nbformat": 4,
 "nbformat_minor": 5
}
